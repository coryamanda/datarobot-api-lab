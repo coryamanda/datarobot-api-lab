{
  "nbformat": 4,
  "nbformat_minor": 0,
  "metadata": {
    "colab": {
      "name": "DataRobot API Lab.ipynb",
      "provenance": [],
      "collapsed_sections": [],
      "toc_visible": true,
      "include_colab_link": true
    },
    "kernelspec": {
      "name": "python3",
      "display_name": "Python 3"
    }
  },
  "cells": [
    {
      "cell_type": "markdown",
      "metadata": {
        "id": "view-in-github",
        "colab_type": "text"
      },
      "source": [
        "<a href=\"https://colab.research.google.com/github/coryamanda/datarobot-api-lab/blob/main/DataRobot_API_Lab.ipynb\" target=\"_parent\"><img src=\"https://colab.research.google.com/assets/colab-badge.svg\" alt=\"Open In Colab\"/></a>"
      ]
    },
    {
      "cell_type": "markdown",
      "metadata": {
        "id": "vY_ZdRnRjamL"
      },
      "source": [
        "# Modeling Loan Default\n",
        "\n",
        "## Overview\n",
        "\n",
        "Not all customers are created equal.  Some present more risk than others. Our goal today is to build a model to understand the default risk of our \n",
        "customers.  This will help us understand which loans are going to be most \n",
        "profitable, and worth of lending money to.  In this example, DataRobot will try to model whether a customer will default on a funded loan. \n",
        "\n",
        "## Prerequisites\n",
        "In order to run this notebook yourself, you will need the following:\n",
        "\n",
        "- The datasets required for this notebook. These are in the same directory as this notebook.\n",
        "- A DataRobot API token. You can find your API token by logging into the DataRobot Web User Interface and looking in your `Profile`.\n",
        "\n",
        "## Set Up\n",
        "This example assumes that the DataRobot Python client package has been installed and configured with the credentials of a DataRobot user with API access permissions."
      ]
    },
    {
      "cell_type": "code",
      "metadata": {
        "id": "_CxPCWPUBApS"
      },
      "source": [
        ""
      ],
      "execution_count": null,
      "outputs": []
    },
    {
      "cell_type": "code",
      "metadata": {
        "id": "6rV-ZMR2sy8C",
        "colab": {
          "base_uri": "https://localhost:8080/"
        },
        "outputId": "101b3c08-b4bb-4876-d4b4-0923437db919"
      },
      "source": [
        "!pip install datarobot==2.21.5"
      ],
      "execution_count": 10,
      "outputs": [
        {
          "output_type": "stream",
          "text": [
            "Requirement already satisfied: datarobot==2.21.5 in /usr/local/lib/python3.6/dist-packages (2.21.5)\n",
            "Requirement already satisfied: urllib3>=1.23 in /usr/local/lib/python3.6/dist-packages (from datarobot==2.21.5) (1.24.3)\n",
            "Requirement already satisfied: pandas>=0.15 in /usr/local/lib/python3.6/dist-packages (from datarobot==2.21.5) (1.1.4)\n",
            "Requirement already satisfied: requests-toolbelt>=0.6 in /usr/local/lib/python3.6/dist-packages (from datarobot==2.21.5) (0.9.1)\n",
            "Requirement already satisfied: requests>=2.21 in /usr/local/lib/python3.6/dist-packages (from datarobot==2.21.5) (2.23.0)\n",
            "Requirement already satisfied: trafaret!=1.1.0,<2.0,>=0.7 in /usr/local/lib/python3.6/dist-packages (from datarobot==2.21.5) (1.2.0)\n",
            "Requirement already satisfied: attrs<20.0,>=19.1.0 in /usr/local/lib/python3.6/dist-packages (from datarobot==2.21.5) (19.3.0)\n",
            "Requirement already satisfied: contextlib2>=0.5.5 in /usr/local/lib/python3.6/dist-packages (from datarobot==2.21.5) (0.5.5)\n",
            "Requirement already satisfied: pyyaml>=3.11 in /usr/local/lib/python3.6/dist-packages (from datarobot==2.21.5) (3.13)\n",
            "Requirement already satisfied: python-dateutil>=2.7.3 in /usr/local/lib/python3.6/dist-packages (from pandas>=0.15->datarobot==2.21.5) (2.8.1)\n",
            "Requirement already satisfied: pytz>=2017.2 in /usr/local/lib/python3.6/dist-packages (from pandas>=0.15->datarobot==2.21.5) (2018.9)\n",
            "Requirement already satisfied: numpy>=1.15.4 in /usr/local/lib/python3.6/dist-packages (from pandas>=0.15->datarobot==2.21.5) (1.18.5)\n",
            "Requirement already satisfied: chardet<4,>=3.0.2 in /usr/local/lib/python3.6/dist-packages (from requests>=2.21->datarobot==2.21.5) (3.0.4)\n",
            "Requirement already satisfied: idna<3,>=2.5 in /usr/local/lib/python3.6/dist-packages (from requests>=2.21->datarobot==2.21.5) (2.10)\n",
            "Requirement already satisfied: certifi>=2017.4.17 in /usr/local/lib/python3.6/dist-packages (from requests>=2.21->datarobot==2.21.5) (2020.11.8)\n",
            "Requirement already satisfied: six>=1.5 in /usr/local/lib/python3.6/dist-packages (from python-dateutil>=2.7.3->pandas>=0.15->datarobot==2.21.5) (1.15.0)\n"
          ],
          "name": "stdout"
        }
      ]
    },
    {
      "cell_type": "code",
      "metadata": {
        "id": "gjdRxpsXrU4z"
      },
      "source": [
        "token = \"\""
      ],
      "execution_count": 68,
      "outputs": []
    },
    {
      "cell_type": "code",
      "metadata": {
        "id": "WqXxJrmpsroN"
      },
      "source": [
        "import pandas as pd\n",
        "import numpy as np\n",
        "import seaborn as sns\n",
        "import yaml\n",
        "import datarobot as dr\n",
        "from google.colab import drive\n",
        "import requests\n",
        "import pprint as pp"
      ],
      "execution_count": 12,
      "outputs": []
    },
    {
      "cell_type": "code",
      "metadata": {
        "id": "1o4LuKFfs0ih",
        "colab": {
          "base_uri": "https://localhost:8080/"
        },
        "outputId": "e7b382b3-ce2d-48ab-fa5c-f40bfd464449"
      },
      "source": [
        "drive.mount('/content/gdrive')"
      ],
      "execution_count": 13,
      "outputs": [
        {
          "output_type": "stream",
          "text": [
            "Drive already mounted at /content/gdrive; to attempt to forcibly remount, call drive.mount(\"/content/gdrive\", force_remount=True).\n"
          ],
          "name": "stdout"
        }
      ]
    },
    {
      "cell_type": "code",
      "metadata": {
        "id": "3KNpRN6wPnv9",
        "colab": {
          "base_uri": "https://localhost:8080/"
        },
        "outputId": "faee1ecf-4ef9-42f0-a00c-5196c870ee27"
      },
      "source": [
        "!sudo apt-get install -y graphviz"
      ],
      "execution_count": 14,
      "outputs": [
        {
          "output_type": "stream",
          "text": [
            "Reading package lists... Done\n",
            "Building dependency tree       \n",
            "Reading state information... Done\n",
            "graphviz is already the newest version (2.40.1-2).\n",
            "0 upgraded, 0 newly installed, 0 to remove and 14 not upgraded.\n"
          ],
          "name": "stdout"
        }
      ]
    },
    {
      "cell_type": "markdown",
      "metadata": {
        "id": "Al7mLIRccdwk"
      },
      "source": [
        "## Get DataRobot API Credentials\n",
        "\n",
        "This assumes that you already have DataRobot installed.  \n",
        "\n"
      ]
    },
    {
      "cell_type": "code",
      "metadata": {
        "id": "E0vam2bMt5nW"
      },
      "source": [
        "token = \"\"\n",
        "endpoint = \"https://app2.datarobot.com/api/v2\""
      ],
      "execution_count": 69,
      "outputs": []
    },
    {
      "cell_type": "code",
      "metadata": {
        "id": "lSY3XWGCQEFP"
      },
      "source": [
        "client = dr.Client(token, endpoint='https://app.datarobot.com/api/v2')"
      ],
      "execution_count": 16,
      "outputs": []
    },
    {
      "cell_type": "markdown",
      "metadata": {
        "id": "BjST69P_RJUy"
      },
      "source": [
        "## DataRobot API Documentation\n",
        "\n",
        "* [API Docs](https://app2.datarobot.com/apidocs/) requires login to the platform\n",
        "* [Python Client](https://datarobot-public-api-client.readthedocs-hosted.com/en/v2.22.1/)\n",
        "* [R Client](https://cran.r-project.org/web/packages/datarobot/index.html)\n",
        "\n",
        "Other resources - [DataRobot Github Communtiy](https://github.com/datarobot-community)"
      ]
    },
    {
      "cell_type": "markdown",
      "metadata": {
        "id": "6GhYbB6mXY9h"
      },
      "source": [
        "## Get Data\n",
        "\n",
        "\n",
        "### From Athena \n",
        "\n",
        "For this lab, we will use a local csv to get moving, but do see this article on how to leverage [Athena](https://community.datarobot.com/t5/general-knowledge-base/datarobot-machine-learning-with-aws-athena-and-parquet-data/ta-p/1063), as well as the code snippet below on how to add Athena as a data source\n"
      ]
    },
    {
      "cell_type": "code",
      "metadata": {
        "id": "FLcZsyN-YCTr"
      },
      "source": [
        "## example on how to connect to athena from datarobot\n",
        "\n",
        "# with open(\"/content/gdrive/My Drive/datarobot-api/athena_creds.yaml\", \"r\") as fi:\n",
        "#     athena_creds = yaml.load(fi)\n",
        "\n",
        "# athena_data_driver = [d for d in dr.DataDriver.list() if \"Athena\" in str(d)].pop()\n",
        "\n",
        "####### these steps only need to be done once\n",
        "## this step only needs to be done once.  Once the data store created it will persist\n",
        "# athena_datastore = dr.DataStore.create(\n",
        "#     data_store_type = \"jdbc\", \n",
        "#     canonical_name = \"Athena\"\n",
        "#     driver_id = athena_data_driver.id\n",
        "#     jdbc_url = athena_creds[\"URL\"]\n",
        "# )\n",
        "\n",
        "# ## additionally, once the datasource is created it will persist as well\n",
        "# ## set parameters for the datasource\n",
        "# params = dr.DataSourceParameters(\n",
        "#     data_store_id=athena_datastore.id,\n",
        "#     query='SELECT * FROM cfds_athena_demo.lending_club_parquet;'\n",
        "# )\n",
        "\n",
        "# ## create the datasource within the datastore\n",
        "# data_source = dr.DataSource.create(\n",
        "#     data_source_type='jdbc',\n",
        "#     canonical_name='LC Parquet',\n",
        "#     params=params)\n",
        "#######\n",
        "\n",
        "# ## create the project from the data sourced\n",
        "# project = dr.Project.create_from_data_source(\n",
        "#     data_source_id = data_source.id,\n",
        "#     username = athena_creds[\"AWSAccessKeyId\"], \n",
        "#     password = athena_creds[\"AWSSecretKey\"],\n",
        "#     project_name = \"Lending Club Parquet\"\n",
        "# )\n",
        "\n"
      ],
      "execution_count": null,
      "outputs": []
    },
    {
      "cell_type": "code",
      "metadata": {
        "id": "42Qt6_HVsdXW"
      },
      "source": [
        ""
      ],
      "execution_count": null,
      "outputs": []
    },
    {
      "cell_type": "code",
      "metadata": {
        "id": "NCOjEcUavD2Y"
      },
      "source": [
        "df = pd.read_csv(\n",
        "    \"/content/gdrive/My Drive/Colab Notebooks/10K_Lending_Club_Loans.csv\",\n",
        "    encoding=\"latin-1\"\n",
        "    )"
      ],
      "execution_count": 17,
      "outputs": []
    },
    {
      "cell_type": "code",
      "metadata": {
        "id": "DbYikgxfvrB6",
        "colab": {
          "base_uri": "https://localhost:8080/"
        },
        "outputId": "4c7c524a-4dbd-4d82-dd5b-bc72540fc250"
      },
      "source": [
        "df[\"is_bad\"].describe()"
      ],
      "execution_count": 18,
      "outputs": [
        {
          "output_type": "execute_result",
          "data": {
            "text/plain": [
              "count    10000.000000\n",
              "mean         0.129500\n",
              "std          0.335769\n",
              "min          0.000000\n",
              "25%          0.000000\n",
              "50%          0.000000\n",
              "75%          0.000000\n",
              "max          1.000000\n",
              "Name: is_bad, dtype: float64"
            ]
          },
          "metadata": {
            "tags": []
          },
          "execution_count": 18
        }
      ]
    },
    {
      "cell_type": "code",
      "metadata": {
        "id": "gWM3WgKQnD3F",
        "colab": {
          "base_uri": "https://localhost:8080/"
        },
        "outputId": "80aeaf0b-a9d2-4837-b6e4-9ed30de76a50"
      },
      "source": [
        "df.info()"
      ],
      "execution_count": 19,
      "outputs": [
        {
          "output_type": "stream",
          "text": [
            "<class 'pandas.core.frame.DataFrame'>\n",
            "RangeIndex: 10000 entries, 0 to 9999\n",
            "Data columns (total 34 columns):\n",
            " #   Column                       Non-Null Count  Dtype  \n",
            "---  ------                       --------------  -----  \n",
            " 0   is_bad                       10000 non-null  int64  \n",
            " 1   loan_amnt                    10000 non-null  int64  \n",
            " 2   funded_amnt                  10000 non-null  int64  \n",
            " 3   term                         10000 non-null  object \n",
            " 4   int_rate                     10000 non-null  object \n",
            " 5   installment                  10000 non-null  float64\n",
            " 6   grade                        10000 non-null  object \n",
            " 7   sub_grade                    10000 non-null  object \n",
            " 8   emp_title                    9408 non-null   object \n",
            " 9   emp_length                   9741 non-null   object \n",
            " 10  home_ownership               10000 non-null  object \n",
            " 11  annual_inc                   9999 non-null   float64\n",
            " 12  verification_status          10000 non-null  object \n",
            " 13  pymnt_plan                   10000 non-null  object \n",
            " 14  url                          10000 non-null  object \n",
            " 15  desc                         6833 non-null   object \n",
            " 16  purpose                      10000 non-null  object \n",
            " 17  title                        9996 non-null   object \n",
            " 18  zip_code                     10000 non-null  object \n",
            " 19  addr_state                   10000 non-null  object \n",
            " 20  dti                          10000 non-null  float64\n",
            " 21  delinq_2yrs                  9995 non-null   float64\n",
            " 22  earliest_cr_line             9995 non-null   object \n",
            " 23  inq_last_6mths               9995 non-null   float64\n",
            " 24  mths_since_last_delinq       3684 non-null   float64\n",
            " 25  mths_since_last_record       840 non-null    float64\n",
            " 26  open_acc                     9995 non-null   float64\n",
            " 27  pub_rec                      9995 non-null   float64\n",
            " 28  revol_bal                    10000 non-null  int64  \n",
            " 29  revol_util                   9977 non-null   float64\n",
            " 30  total_acc                    9995 non-null   float64\n",
            " 31  initial_list_status          10000 non-null  object \n",
            " 32  mths_since_last_major_derog  0 non-null      float64\n",
            " 33  policy_code                  10000 non-null  int64  \n",
            "dtypes: float64(12), int64(5), object(17)\n",
            "memory usage: 2.6+ MB\n"
          ],
          "name": "stdout"
        }
      ]
    },
    {
      "cell_type": "markdown",
      "metadata": {
        "id": "typyUll8wTYZ"
      },
      "source": [
        "## Create a DataRobot Project"
      ]
    },
    {
      "cell_type": "code",
      "metadata": {
        "id": "KLPXFBkiv0FS"
      },
      "source": [
        "project = dr.Project.create(df, project_name = \"lending club example\")"
      ],
      "execution_count": 20,
      "outputs": []
    },
    {
      "cell_type": "code",
      "metadata": {
        "id": "GuW-x1dwRqaj",
        "colab": {
          "base_uri": "https://localhost:8080/"
        },
        "outputId": "06f758f3-31d1-47fa-b21d-65041242e061"
      },
      "source": [
        "project"
      ],
      "execution_count": 25,
      "outputs": [
        {
          "output_type": "execute_result",
          "data": {
            "text/plain": [
              "Project(lending club example)"
            ]
          },
          "metadata": {
            "tags": []
          },
          "execution_count": 25
        }
      ]
    },
    {
      "cell_type": "markdown",
      "metadata": {
        "id": "W_qddU1jR7U-"
      },
      "source": [
        "## Start modeling\n",
        "\n",
        "Once the code is executed below, control is returned once it is established that DataRobot will be able to start modeling on the target variable.  This kicks off \n",
        "* Data Characterization \n",
        "* Exploratory Data Analysis\n",
        "* Blueprint preparation (how DataRobot will use the features and target to make predictiosn)"
      ]
    },
    {
      "cell_type": "code",
      "metadata": {
        "id": "ECQ4nnbGkCsH",
        "colab": {
          "base_uri": "https://localhost:8080/"
        },
        "outputId": "798bb7be-539d-4330-9dbd-7549e2abe90d"
      },
      "source": [
        "## set the target and start modeling\n",
        "project.set_target(\"is_bad\")\n",
        "## increase the number of workers / how many models you can train at once. \n",
        "project.set_worker_count(-1)"
      ],
      "execution_count": 21,
      "outputs": [
        {
          "output_type": "execute_result",
          "data": {
            "text/plain": [
              "Project(lending club example)"
            ]
          },
          "metadata": {
            "tags": []
          },
          "execution_count": 21
        }
      ]
    },
    {
      "cell_type": "markdown",
      "metadata": {
        "id": "s7MS5nhtkIdW"
      },
      "source": [
        "## DataRobot project setup\n",
        "\n",
        "Since we are using DataRobot default recommendations for everything, that means we allowed DataRobot to pick:\n",
        "* validation strategy\n",
        "* identify problem type (regression of classification)\n",
        "* optimization metric\n",
        "\n",
        "If we wanted to choose this ourselves, we certainly could.  "
      ]
    },
    {
      "cell_type": "code",
      "metadata": {
        "id": "3uz1PdPpkKaE",
        "colab": {
          "base_uri": "https://localhost:8080/"
        },
        "outputId": "feb2f521-03e3-49f1-a5f6-5cdf19af38a2"
      },
      "source": [
        "project.partition"
      ],
      "execution_count": 22,
      "outputs": [
        {
          "output_type": "execute_result",
          "data": {
            "text/plain": [
              "{'cv_method': 'stratified',\n",
              " 'holdout_pct': 20.0,\n",
              " 'reps': 5,\n",
              " 'validation_type': 'CV'}"
            ]
          },
          "metadata": {
            "tags": []
          },
          "execution_count": 22
        }
      ]
    },
    {
      "cell_type": "code",
      "metadata": {
        "id": "ZwHIeogdkMr-",
        "colab": {
          "base_uri": "https://localhost:8080/",
          "height": 35
        },
        "outputId": "012b1a2d-ff01-432a-9d5d-dc9726a181e5"
      },
      "source": [
        "project.target_type"
      ],
      "execution_count": 31,
      "outputs": [
        {
          "output_type": "execute_result",
          "data": {
            "application/vnd.google.colaboratory.intrinsic+json": {
              "type": "string"
            },
            "text/plain": [
              "'Binary'"
            ]
          },
          "metadata": {
            "tags": []
          },
          "execution_count": 31
        }
      ]
    },
    {
      "cell_type": "code",
      "metadata": {
        "id": "WO12TPdqkOe7",
        "colab": {
          "base_uri": "https://localhost:8080/",
          "height": 35
        },
        "outputId": "86b4e8c8-98ea-4280-d4ca-d2c4786d9a24"
      },
      "source": [
        "project.metric"
      ],
      "execution_count": 32,
      "outputs": [
        {
          "output_type": "execute_result",
          "data": {
            "application/vnd.google.colaboratory.intrinsic+json": {
              "type": "string"
            },
            "text/plain": [
              "'LogLoss'"
            ]
          },
          "metadata": {
            "tags": []
          },
          "execution_count": 32
        }
      ]
    },
    {
      "cell_type": "markdown",
      "metadata": {
        "id": "TdyVkVokkRAZ"
      },
      "source": [
        "## Anatomy of a DataRobot project\n",
        "\n",
        "A project is composed of \n",
        "* features\n",
        "* feature lists \n",
        "* blueprints\n",
        "* models"
      ]
    },
    {
      "cell_type": "code",
      "metadata": {
        "id": "oUb53EqFkTgi",
        "colab": {
          "base_uri": "https://localhost:8080/"
        },
        "outputId": "e369f378-f831-4c5c-fb72-616e8610e703"
      },
      "source": [
        "print(\"project name: {} \\nproject id: {}\".format(project.project_name, project.id))\n",
        "for i in project.get_status().items():\n",
        "    print(\"{}: {}\".format(i[0],i[1]))"
      ],
      "execution_count": 23,
      "outputs": [
        {
          "output_type": "stream",
          "text": [
            "project name: lending club example \n",
            "project id: 5fc8e4fa754dc23d9569fcfe\n",
            "autopilot_done: False\n",
            "stage_description: Ready for modeling\n",
            "stage: modeling\n"
          ],
          "name": "stdout"
        }
      ]
    },
    {
      "cell_type": "markdown",
      "metadata": {
        "id": "4qA_9gaxkW7L"
      },
      "source": [
        "### Features \n",
        "\n",
        "The features of your dataset.  To grab all the features of your dataset, simply use the `get_features` method of the project.\n",
        "\n",
        "A feature from a project's dataset\n",
        "  \n",
        "These are features either included in the originally uploaded dataset or added to it via\n",
        "feature transformations.  \n",
        "\n",
        "The ``min``, ``max``, ``mean``, ``median``, and ``std_dev`` attributes provide information about\n",
        "the distribution of the feature in the EDA sample data.  For non-numeric features or features\n",
        "created prior to these summary statistics becoming available, they will be None.  For features\n",
        "where the summary statistics are available, they will be in a format compatible with the data\n",
        "type, i.e. date type features will have their summary statistics expressed as ISO-8601\n",
        "formatted date strings.\n"
      ]
    },
    {
      "cell_type": "code",
      "metadata": {
        "id": "0KH0Ir2NwdFC",
        "colab": {
          "base_uri": "https://localhost:8080/"
        },
        "outputId": "f0d2c7c4-8a3e-4993-b4d0-4caa62aff344"
      },
      "source": [
        "features = project.get_features()\n",
        "features[0:5]"
      ],
      "execution_count": 24,
      "outputs": [
        {
          "output_type": "execute_result",
          "data": {
            "text/plain": [
              "[Feature(mths_since_last_delinq),\n",
              " Feature(inq_last_6mths),\n",
              " Feature(grade),\n",
              " Feature(annual_inc),\n",
              " Feature(total_acc)]"
            ]
          },
          "metadata": {
            "tags": []
          },
          "execution_count": 24
        }
      ]
    },
    {
      "cell_type": "code",
      "metadata": {
        "id": "8iwdKjn1wxMo"
      },
      "source": [
        "descriptive_stats = [(f.name, f.min, f.max, f.mean, f.median, f.na_count, f.unique_count) for f in features]\n",
        "descriptive_stats = pd.DataFrame(descriptive_stats,\n",
        "                                 columns = [\"name\", \"min\", \"max\", \"mean\", \"median\", \"na\", \"cardinality\"]\n",
        "                                 )"
      ],
      "execution_count": 25,
      "outputs": []
    },
    {
      "cell_type": "code",
      "metadata": {
        "id": "16DoUwMDw7gq",
        "colab": {
          "base_uri": "https://localhost:8080/",
          "height": 204
        },
        "outputId": "1a687a4c-08e0-414d-e403-29c79e77c285"
      },
      "source": [
        "descriptive_stats.head()\n"
      ],
      "execution_count": 26,
      "outputs": [
        {
          "output_type": "execute_result",
          "data": {
            "text/html": [
              "<div>\n",
              "<style scoped>\n",
              "    .dataframe tbody tr th:only-of-type {\n",
              "        vertical-align: middle;\n",
              "    }\n",
              "\n",
              "    .dataframe tbody tr th {\n",
              "        vertical-align: top;\n",
              "    }\n",
              "\n",
              "    .dataframe thead th {\n",
              "        text-align: right;\n",
              "    }\n",
              "</style>\n",
              "<table border=\"1\" class=\"dataframe\">\n",
              "  <thead>\n",
              "    <tr style=\"text-align: right;\">\n",
              "      <th></th>\n",
              "      <th>name</th>\n",
              "      <th>min</th>\n",
              "      <th>max</th>\n",
              "      <th>mean</th>\n",
              "      <th>median</th>\n",
              "      <th>na</th>\n",
              "      <th>cardinality</th>\n",
              "    </tr>\n",
              "  </thead>\n",
              "  <tbody>\n",
              "    <tr>\n",
              "      <th>0</th>\n",
              "      <td>mths_since_last_delinq</td>\n",
              "      <td>0</td>\n",
              "      <td>120</td>\n",
              "      <td>36.0003</td>\n",
              "      <td>34</td>\n",
              "      <td>5076.0</td>\n",
              "      <td>91</td>\n",
              "    </tr>\n",
              "    <tr>\n",
              "      <th>1</th>\n",
              "      <td>inq_last_6mths</td>\n",
              "      <td>0</td>\n",
              "      <td>25</td>\n",
              "      <td>1.078</td>\n",
              "      <td>1</td>\n",
              "      <td>4.0</td>\n",
              "      <td>20</td>\n",
              "    </tr>\n",
              "    <tr>\n",
              "      <th>2</th>\n",
              "      <td>grade</td>\n",
              "      <td>None</td>\n",
              "      <td>None</td>\n",
              "      <td>None</td>\n",
              "      <td>None</td>\n",
              "      <td>0.0</td>\n",
              "      <td>7</td>\n",
              "    </tr>\n",
              "    <tr>\n",
              "      <th>3</th>\n",
              "      <td>annual_inc</td>\n",
              "      <td>4080</td>\n",
              "      <td>900000</td>\n",
              "      <td>68609.8</td>\n",
              "      <td>58479</td>\n",
              "      <td>1.0</td>\n",
              "      <td>1614</td>\n",
              "    </tr>\n",
              "    <tr>\n",
              "      <th>4</th>\n",
              "      <td>total_acc</td>\n",
              "      <td>1</td>\n",
              "      <td>90</td>\n",
              "      <td>22.12</td>\n",
              "      <td>20</td>\n",
              "      <td>4.0</td>\n",
              "      <td>74</td>\n",
              "    </tr>\n",
              "  </tbody>\n",
              "</table>\n",
              "</div>"
            ],
            "text/plain": [
              "                     name   min     max     mean median      na  cardinality\n",
              "0  mths_since_last_delinq     0     120  36.0003     34  5076.0           91\n",
              "1          inq_last_6mths     0      25    1.078      1     4.0           20\n",
              "2                   grade  None    None     None   None     0.0            7\n",
              "3              annual_inc  4080  900000  68609.8  58479     1.0         1614\n",
              "4               total_acc     1      90    22.12     20     4.0           74"
            ]
          },
          "metadata": {
            "tags": []
          },
          "execution_count": 26
        }
      ]
    },
    {
      "cell_type": "markdown",
      "metadata": {
        "id": "rs2uT6hUkjXk"
      },
      "source": [
        "Since we have started modeling, we can pull out the feature importance from the data tab and provide a plot.  "
      ]
    },
    {
      "cell_type": "code",
      "metadata": {
        "id": "raowR0aQkif7",
        "colab": {
          "base_uri": "https://localhost:8080/",
          "height": 1000
        },
        "outputId": "c1ae0bde-6305-4d6a-da4c-0991b8ab03dd"
      },
      "source": [
        "\n",
        "feature_importance = pd.DataFrame([(f.name, f.importance) for f in features], columns = [\"feature\", \"importance\"]).sort_values(\"importance\", ascending = False).dropna()\n",
        "feature_importance.set_index(\"feature\").iloc[:-1].clip(0)\n"
      ],
      "execution_count": 27,
      "outputs": [
        {
          "output_type": "execute_result",
          "data": {
            "text/html": [
              "<div>\n",
              "<style scoped>\n",
              "    .dataframe tbody tr th:only-of-type {\n",
              "        vertical-align: middle;\n",
              "    }\n",
              "\n",
              "    .dataframe tbody tr th {\n",
              "        vertical-align: top;\n",
              "    }\n",
              "\n",
              "    .dataframe thead th {\n",
              "        text-align: right;\n",
              "    }\n",
              "</style>\n",
              "<table border=\"1\" class=\"dataframe\">\n",
              "  <thead>\n",
              "    <tr style=\"text-align: right;\">\n",
              "      <th></th>\n",
              "      <th>importance</th>\n",
              "    </tr>\n",
              "    <tr>\n",
              "      <th>feature</th>\n",
              "      <th></th>\n",
              "    </tr>\n",
              "  </thead>\n",
              "  <tbody>\n",
              "    <tr>\n",
              "      <th>is_bad</th>\n",
              "      <td>1.000000</td>\n",
              "    </tr>\n",
              "    <tr>\n",
              "      <th>int_rate</th>\n",
              "      <td>0.035801</td>\n",
              "    </tr>\n",
              "    <tr>\n",
              "      <th>grade</th>\n",
              "      <td>0.030569</td>\n",
              "    </tr>\n",
              "    <tr>\n",
              "      <th>sub_grade</th>\n",
              "      <td>0.027335</td>\n",
              "    </tr>\n",
              "    <tr>\n",
              "      <th>term</th>\n",
              "      <td>0.020422</td>\n",
              "    </tr>\n",
              "    <tr>\n",
              "      <th>revol_util</th>\n",
              "      <td>0.012775</td>\n",
              "    </tr>\n",
              "    <tr>\n",
              "      <th>title</th>\n",
              "      <td>0.009576</td>\n",
              "    </tr>\n",
              "    <tr>\n",
              "      <th>purpose</th>\n",
              "      <td>0.007647</td>\n",
              "    </tr>\n",
              "    <tr>\n",
              "      <th>desc</th>\n",
              "      <td>0.006874</td>\n",
              "    </tr>\n",
              "    <tr>\n",
              "      <th>inq_last_6mths</th>\n",
              "      <td>0.006451</td>\n",
              "    </tr>\n",
              "    <tr>\n",
              "      <th>annual_inc</th>\n",
              "      <td>0.003368</td>\n",
              "    </tr>\n",
              "    <tr>\n",
              "      <th>emp_title</th>\n",
              "      <td>0.003261</td>\n",
              "    </tr>\n",
              "    <tr>\n",
              "      <th>open_acc</th>\n",
              "      <td>0.003211</td>\n",
              "    </tr>\n",
              "    <tr>\n",
              "      <th>loan_amnt</th>\n",
              "      <td>0.002755</td>\n",
              "    </tr>\n",
              "    <tr>\n",
              "      <th>total_acc</th>\n",
              "      <td>0.002746</td>\n",
              "    </tr>\n",
              "    <tr>\n",
              "      <th>verification_status</th>\n",
              "      <td>0.002740</td>\n",
              "    </tr>\n",
              "    <tr>\n",
              "      <th>revol_bal</th>\n",
              "      <td>0.002274</td>\n",
              "    </tr>\n",
              "    <tr>\n",
              "      <th>funded_amnt</th>\n",
              "      <td>0.002233</td>\n",
              "    </tr>\n",
              "    <tr>\n",
              "      <th>pub_rec</th>\n",
              "      <td>0.001898</td>\n",
              "    </tr>\n",
              "    <tr>\n",
              "      <th>earliest_cr_line</th>\n",
              "      <td>0.000667</td>\n",
              "    </tr>\n",
              "    <tr>\n",
              "      <th>earliest_cr_line (Year)</th>\n",
              "      <td>0.000664</td>\n",
              "    </tr>\n",
              "    <tr>\n",
              "      <th>dti</th>\n",
              "      <td>0.000586</td>\n",
              "    </tr>\n",
              "    <tr>\n",
              "      <th>home_ownership</th>\n",
              "      <td>0.000460</td>\n",
              "    </tr>\n",
              "    <tr>\n",
              "      <th>earliest_cr_line (Month)</th>\n",
              "      <td>0.000353</td>\n",
              "    </tr>\n",
              "    <tr>\n",
              "      <th>installment</th>\n",
              "      <td>0.000030</td>\n",
              "    </tr>\n",
              "    <tr>\n",
              "      <th>mths_since_last_record</th>\n",
              "      <td>0.000000</td>\n",
              "    </tr>\n",
              "    <tr>\n",
              "      <th>delinq_2yrs</th>\n",
              "      <td>0.000000</td>\n",
              "    </tr>\n",
              "    <tr>\n",
              "      <th>mths_since_last_delinq</th>\n",
              "      <td>0.000000</td>\n",
              "    </tr>\n",
              "    <tr>\n",
              "      <th>earliest_cr_line (Day of Week)</th>\n",
              "      <td>0.000000</td>\n",
              "    </tr>\n",
              "    <tr>\n",
              "      <th>emp_length</th>\n",
              "      <td>0.000000</td>\n",
              "    </tr>\n",
              "    <tr>\n",
              "      <th>url</th>\n",
              "      <td>0.000000</td>\n",
              "    </tr>\n",
              "    <tr>\n",
              "      <th>addr_state</th>\n",
              "      <td>0.000000</td>\n",
              "    </tr>\n",
              "  </tbody>\n",
              "</table>\n",
              "</div>"
            ],
            "text/plain": [
              "                                importance\n",
              "feature                                   \n",
              "is_bad                            1.000000\n",
              "int_rate                          0.035801\n",
              "grade                             0.030569\n",
              "sub_grade                         0.027335\n",
              "term                              0.020422\n",
              "revol_util                        0.012775\n",
              "title                             0.009576\n",
              "purpose                           0.007647\n",
              "desc                              0.006874\n",
              "inq_last_6mths                    0.006451\n",
              "annual_inc                        0.003368\n",
              "emp_title                         0.003261\n",
              "open_acc                          0.003211\n",
              "loan_amnt                         0.002755\n",
              "total_acc                         0.002746\n",
              "verification_status               0.002740\n",
              "revol_bal                         0.002274\n",
              "funded_amnt                       0.002233\n",
              "pub_rec                           0.001898\n",
              "earliest_cr_line                  0.000667\n",
              "earliest_cr_line (Year)           0.000664\n",
              "dti                               0.000586\n",
              "home_ownership                    0.000460\n",
              "earliest_cr_line (Month)          0.000353\n",
              "installment                       0.000030\n",
              "mths_since_last_record            0.000000\n",
              "delinq_2yrs                       0.000000\n",
              "mths_since_last_delinq            0.000000\n",
              "earliest_cr_line (Day of Week)    0.000000\n",
              "emp_length                        0.000000\n",
              "url                               0.000000\n",
              "addr_state                        0.000000"
            ]
          },
          "metadata": {
            "tags": []
          },
          "execution_count": 27
        }
      ]
    },
    {
      "cell_type": "markdown",
      "metadata": {
        "id": "OURLYzdHk_U_"
      },
      "source": [
        "### Feature lists\n",
        "\n",
        "In DataRobot a FeatureList is a set of features to be used in model.  By default, DataRobot creates several FeatureLists through the course of autopilot.  "
      ]
    },
    {
      "cell_type": "code",
      "metadata": {
        "id": "42BRjesClBfq"
      },
      "source": [
        "featurelists = project.get_featurelists()"
      ],
      "execution_count": 28,
      "outputs": []
    },
    {
      "cell_type": "code",
      "metadata": {
        "id": "c2FQx3jUxen2",
        "colab": {
          "base_uri": "https://localhost:8080/"
        },
        "outputId": "04162796-a3d6-4b49-cab6-e27f4739b35a"
      },
      "source": [
        "featurelists"
      ],
      "execution_count": 29,
      "outputs": [
        {
          "output_type": "execute_result",
          "data": {
            "text/plain": [
              "[Featurelist(Raw Features),\n",
              " Featurelist(Informative Features),\n",
              " Featurelist(Univariate Selections)]"
            ]
          },
          "metadata": {
            "tags": []
          },
          "execution_count": 29
        }
      ]
    },
    {
      "cell_type": "code",
      "metadata": {
        "id": "5q6flFeYx0lx",
        "colab": {
          "base_uri": "https://localhost:8080/"
        },
        "outputId": "e6e0dbf4-e36a-4cbc-96db-a0df6fc04764"
      },
      "source": [
        "informative_features = featurelists[1]\n",
        "informative_features.features"
      ],
      "execution_count": 30,
      "outputs": [
        {
          "output_type": "execute_result",
          "data": {
            "text/plain": [
              "['is_bad',\n",
              " 'loan_amnt',\n",
              " 'funded_amnt',\n",
              " 'term',\n",
              " 'int_rate',\n",
              " 'installment',\n",
              " 'grade',\n",
              " 'sub_grade',\n",
              " 'emp_title',\n",
              " 'emp_length',\n",
              " 'home_ownership',\n",
              " 'annual_inc',\n",
              " 'verification_status',\n",
              " 'url',\n",
              " 'desc',\n",
              " 'purpose',\n",
              " 'title',\n",
              " 'zip_code',\n",
              " 'addr_state',\n",
              " 'dti',\n",
              " 'delinq_2yrs',\n",
              " 'earliest_cr_line (Year)',\n",
              " 'inq_last_6mths',\n",
              " 'mths_since_last_delinq',\n",
              " 'mths_since_last_record',\n",
              " 'open_acc',\n",
              " 'pub_rec',\n",
              " 'revol_bal',\n",
              " 'revol_util',\n",
              " 'total_acc',\n",
              " 'earliest_cr_line (Month)',\n",
              " 'earliest_cr_line (Day of Week)']"
            ]
          },
          "metadata": {
            "tags": []
          },
          "execution_count": 30
        }
      ]
    },
    {
      "cell_type": "markdown",
      "metadata": {
        "id": "rKQYYi26lICN"
      },
      "source": [
        "### Blueprints\n",
        "\n",
        "The set of computation paths that a dataset passes through before producing predictions from data is called a Blueprint. A Blueprint can be trained on a dataset to generate a model."
      ]
    },
    {
      "cell_type": "code",
      "metadata": {
        "id": "jG7-CHF7RWeH"
      },
      "source": [
        "blueprints = project.get_blueprints()"
      ],
      "execution_count": 31,
      "outputs": []
    },
    {
      "cell_type": "code",
      "metadata": {
        "id": "a4TO0_U6dZZ4",
        "colab": {
          "base_uri": "https://localhost:8080/"
        },
        "outputId": "993920f3-ac72-494c-a60a-e7d89bd3e8be"
      },
      "source": [
        "len(blueprints)"
      ],
      "execution_count": 32,
      "outputs": [
        {
          "output_type": "execute_result",
          "data": {
            "text/plain": [
              "95"
            ]
          },
          "metadata": {
            "tags": []
          },
          "execution_count": 32
        }
      ]
    },
    {
      "cell_type": "code",
      "metadata": {
        "id": "7mv3A0TwyvVI",
        "colab": {
          "base_uri": "https://localhost:8080/"
        },
        "outputId": "d3484000-d153-49bd-9810-ac4290356cec"
      },
      "source": [
        "blueprints"
      ],
      "execution_count": 33,
      "outputs": [
        {
          "output_type": "execute_result",
          "data": {
            "text/plain": [
              "[Blueprint(ExtraTrees Classifier (Gini)),\n",
              " Blueprint(eXtreme Gradient Boosted Trees Classifier with Early Stopping),\n",
              " Blueprint(Keras Wide Residual Neural Network Classifier using Training Schedule (1 Layer: 1536 Units)),\n",
              " Blueprint(Anomaly Detection Blender),\n",
              " Blueprint(Local Outlier Factor Anomaly Detection),\n",
              " Blueprint(Elastic-Net Classifier (mixing alpha=0.5 / Binomial Deviance)),\n",
              " Blueprint(Anomaly Detection with Supervised Learning (XGB)),\n",
              " Blueprint(TensorFlow Deep Learning Classifier),\n",
              " Blueprint(eXtreme Gradient Boosted Trees Classifier with Early Stopping and Unsupervised Learning Features),\n",
              " Blueprint(Isolation Forest Anomaly Detection),\n",
              " Blueprint(eXtreme Gradient Boosted Trees Classifier with Early Stopping (learning rate =0.01)),\n",
              " Blueprint(eXtreme Gradient Boosted Trees Classifier with Early Stopping (learning rate =0.01)),\n",
              " Blueprint(Dropout Additive Regression Trees Classifier  (15 leaves)),\n",
              " Blueprint(Eureqa Generalized Additive Model Classifier (1000 Generations)),\n",
              " Blueprint(eXtreme Gradient Boosted Trees Classifier with Early Stopping),\n",
              " Blueprint(Elastic-Net Classifier (L2 / Binomial Deviance)),\n",
              " Blueprint(Nystroem Kernel SVM Classifier),\n",
              " Blueprint(Stochastic Gradient Descent Classifier),\n",
              " Blueprint(Eureqa Generalized Additive Model Classifier (10000 Generations)),\n",
              " Blueprint(Eureqa Classifier (Instant Search: 40 Generations)),\n",
              " Blueprint(Keras Deep Residual Neural Network Classifier using Training Schedule (2 Layers: 512, 512 Units)),\n",
              " Blueprint(Vowpal Wabbit Low Rank Quadratic Classifier),\n",
              " Blueprint(Eureqa Classifier (Default Search: 3000 Generations)),\n",
              " Blueprint(Elastic-Net Classifier (L2 / Binomial Deviance)),\n",
              " Blueprint(eXtreme Gradient Boosted Trees Classifier with Early Stopping),\n",
              " Blueprint(eXtreme Gradient Boosted Trees Classifier with Early Stopping),\n",
              " Blueprint(eXtreme Gradient Boosted Trees Classifier with Early Stopping (learning rate =0.01)),\n",
              " Blueprint(Eureqa Classifier (Quick Search: 1000 Generations)),\n",
              " Blueprint(Elastic-Net Classifier (L2 / Binomial Deviance) with Binned numeric features),\n",
              " Blueprint(Double Median Absolute Deviation Anomaly Detection),\n",
              " Blueprint(Generalized Additive Model),\n",
              " Blueprint(Auto-Tuned Word N-Gram Text Modeler using token occurrences - desc),\n",
              " Blueprint(Nystroem Kernel SVM Classifier),\n",
              " Blueprint(TensorFlow Neural Network Classifier),\n",
              " Blueprint(Elastic-Net Classifier (L1 / Binomial Deviance)),\n",
              " Blueprint(Elastic-Net Classifier (L2 / Binomial Deviance)),\n",
              " Blueprint(LightGBM Random Forest Classifier),\n",
              " Blueprint(TensorFlow Deep Learning Classifier),\n",
              " Blueprint(Generalized Additive2 Model),\n",
              " Blueprint(Gradient Boosted Trees Classifier),\n",
              " Blueprint(Gradient Boosted Trees Classifier with Early Stopping),\n",
              " Blueprint(Gradient Boosted Trees Classifier with Early Stopping),\n",
              " Blueprint(TensorFlow Deep Learning Classifier),\n",
              " Blueprint(eXtreme Gradient Boosted Trees Classifier with Early Stopping and Unsupervised Learning Features),\n",
              " Blueprint(Auto-tuned K-Nearest Neighbors Classifier (Euclidean Distance)),\n",
              " Blueprint(Logistic Regression),\n",
              " Blueprint(RandomForest Classifier (Gini)),\n",
              " Blueprint(eXtreme Gradient Boosted Trees Classifier with Early Stopping),\n",
              " Blueprint(Elastic-Net Classifier (L2 / Binomial Deviance)),\n",
              " Blueprint(Anomaly Detection with Supervised Learning (XGB)),\n",
              " Blueprint(Elastic-Net Classifier (mixing alpha=0.5 / Binomial Deviance)),\n",
              " Blueprint(Support Vector Classifier (Linear Kernel)),\n",
              " Blueprint(Keras Deep Residual Neural Network Classifier using Training Schedule (3 Layers: 512, 64, 64 Units)),\n",
              " Blueprint(One-Class SVM Anomaly Detection),\n",
              " Blueprint(eXtreme Gradient Boosted Trees Classifier with Early Stopping),\n",
              " Blueprint(Eureqa Generalized Additive Model Classifier (40 Generations)),\n",
              " Blueprint(Auto-Tuned Word N-Gram Text Modeler using token occurrences - url),\n",
              " Blueprint(RandomForest Classifier (Entropy)),\n",
              " Blueprint(Vowpal Wabbit Classifier),\n",
              " Blueprint(eXtreme Gradient Boosted Trees Classifier with Early Stopping),\n",
              " Blueprint(RandomForest Classifier (Gini)),\n",
              " Blueprint(Decision Tree Classifier (Gini)),\n",
              " Blueprint(Majority Class Classifier),\n",
              " Blueprint(Keras Slim Residual Neural Network Classifier using Training Schedule (1 Layer: 64 Units)),\n",
              " Blueprint(RandomForest Classifier (Entropy) (Shallow) ),\n",
              " Blueprint(Elastic-Net Classifier (mixing alpha=0.5 / Binomial Deviance) with Unsupervised Learning Features),\n",
              " Blueprint(Keras Deep Self-Normalizing Residual Neural Network Classifier using Training Schedule (3 Layers: 256, 128, 64 Units)),\n",
              " Blueprint(Mahalanobis Distance Ranked Anomaly Detection with PCA),\n",
              " Blueprint(Keras Slim Residual Neural Network Classifier using Training Schedule (1 Layer: 64 Units)),\n",
              " Blueprint(Gradient Boosted Greedy Trees Classifier with Early Stopping),\n",
              " Blueprint(Elastic-Net Classifier (L2 / Binomial Deviance)),\n",
              " Blueprint(RandomForest Classifier (Entropy)),\n",
              " Blueprint(eXtreme Gradient Boosted Trees Classifier with Early Stopping - Forest (10x)),\n",
              " Blueprint(Light Gradient Boosting on ElasticNet Predictions ),\n",
              " Blueprint(Elastic-Net Classifier (L1 / Binomial Deviance)),\n",
              " Blueprint(Auto-Tuned Word N-Gram Text Modeler using token occurrences - emp_title),\n",
              " Blueprint(Auto-tuned K-Nearest Neighbors Classifier (Euclidean Distance)),\n",
              " Blueprint(Elastic-Net Classifier with Naive Bayes Feature Weighting (L2)),\n",
              " Blueprint(Eureqa Classifier (Long-Running Search: 10000 Generations)),\n",
              " Blueprint(TensorFlow Neural Network Classifier),\n",
              " Blueprint(eXtreme Gradient Boosted Trees Classifier with Early Stopping),\n",
              " Blueprint(Naive Bayes combiner classifier),\n",
              " Blueprint(Nystroem Kernel SVM Classifier),\n",
              " Blueprint(Regularized Logistic Regression (L2)),\n",
              " Blueprint(eXtreme Gradient Boosted Trees Classifier with Early Stopping (learning rate =0.01)),\n",
              " Blueprint(Keras Slim Residual Neural Network Classifier using Adaptive Training Schedule (1 Layer: 64 Units)),\n",
              " Blueprint(Regularized Logistic Regression (L2)),\n",
              " Blueprint(Regularized Logistic Regression (L2)),\n",
              " Blueprint(Regularized Logistic Regression (L2)),\n",
              " Blueprint(Keras Slim Residual Neural Network Classifier using Adaptive Training Schedule (1 Layer: 64 Units)),\n",
              " Blueprint(Vowpal Wabbit Stagewise Polynomial Classifier),\n",
              " Blueprint(RuleFit Classifier),\n",
              " Blueprint(Light Gradient Boosted Trees Classifier with Early Stopping),\n",
              " Blueprint(Elastic-Net Classifier (mixing alpha=0.5 / Binomial Deviance)),\n",
              " Blueprint(Auto-Tuned Word N-Gram Text Modeler using token occurrences - title)]"
            ]
          },
          "metadata": {
            "tags": []
          },
          "execution_count": 33
        }
      ]
    },
    {
      "cell_type": "code",
      "metadata": {
        "id": "tVppAjP3de5E",
        "colab": {
          "base_uri": "https://localhost:8080/"
        },
        "outputId": "604ff179-43ab-4723-9274-d98b782f4aee"
      },
      "source": [
        "blueprint = blueprints[0]\n",
        "blueprint"
      ],
      "execution_count": 35,
      "outputs": [
        {
          "output_type": "execute_result",
          "data": {
            "text/plain": [
              "Blueprint(ExtraTrees Classifier (Gini))"
            ]
          },
          "metadata": {
            "tags": []
          },
          "execution_count": 35
        }
      ]
    },
    {
      "cell_type": "markdown",
      "metadata": {
        "id": "my81_kYzF245"
      },
      "source": [
        "We can also access the full set of processing steps for a given Blueprint."
      ]
    },
    {
      "cell_type": "code",
      "metadata": {
        "id": "ASWRMTgNdgdG",
        "colab": {
          "base_uri": "https://localhost:8080/"
        },
        "outputId": "30668d08-c54e-479b-db09-5b5a056929b0"
      },
      "source": [
        "blueprint.processes"
      ],
      "execution_count": 36,
      "outputs": [
        {
          "output_type": "execute_result",
          "data": {
            "text/plain": [
              "['One-Hot Encoding',\n",
              " 'Univariate credibility estimates with ElasticNet',\n",
              " 'Missing Values Imputed',\n",
              " 'Search for differences',\n",
              " 'Search for ratios',\n",
              " 'Converter for Text Mining',\n",
              " 'Auto-Tuned Word N-Gram Text Modeler using token occurrences',\n",
              " 'Feature Selection for dimensionality reduction',\n",
              " 'ExtraTrees Classifier (Gini)']"
            ]
          },
          "metadata": {
            "tags": []
          },
          "execution_count": 36
        }
      ]
    },
    {
      "cell_type": "markdown",
      "metadata": {
        "id": "TFaqLZ8dlRyL"
      },
      "source": [
        "### Models\n",
        "\n",
        "A trained Blueprint using a specific FeatureList"
      ]
    },
    {
      "cell_type": "code",
      "metadata": {
        "id": "Rpmm8H8UlTmG"
      },
      "source": [
        "models = project.get_models()"
      ],
      "execution_count": 37,
      "outputs": []
    },
    {
      "cell_type": "code",
      "metadata": {
        "colab": {
          "base_uri": "https://localhost:8080/"
        },
        "id": "lduz6L_AGe4D",
        "outputId": "0ea8d126-9bf4-40e0-d0ce-f0c7e06cc784"
      },
      "source": [
        "models"
      ],
      "execution_count": 38,
      "outputs": [
        {
          "output_type": "execute_result",
          "data": {
            "text/plain": [
              "[Model('Gradient Boosted Trees Classifier with Early Stopping'),\n",
              " Model('eXtreme Gradient Boosted Trees Classifier with Early Stopping'),\n",
              " Model('Light Gradient Boosted Trees Classifier with Early Stopping'),\n",
              " Model('eXtreme Gradient Boosted Trees Classifier with Early Stopping'),\n",
              " Model('Generalized Additive2 Model'),\n",
              " Model('eXtreme Gradient Boosted Trees Classifier with Early Stopping and Unsupervised Learning Features'),\n",
              " Model('Light Gradient Boosted Trees Classifier with Early Stopping'),\n",
              " Model('Gradient Boosted Greedy Trees Classifier with Early Stopping'),\n",
              " Model('Generalized Additive2 Model'),\n",
              " Model('Gradient Boosted Greedy Trees Classifier with Early Stopping'),\n",
              " Model('eXtreme Gradient Boosted Trees Classifier with Early Stopping and Unsupervised Learning Features'),\n",
              " Model('RandomForest Classifier (Entropy)'),\n",
              " Model('eXtreme Gradient Boosted Trees Classifier with Early Stopping'),\n",
              " Model('Gradient Boosted Trees Classifier with Early Stopping'),\n",
              " Model('Gradient Boosted Trees Classifier'),\n",
              " Model('Gradient Boosted Trees Classifier'),\n",
              " Model('Gradient Boosted Trees Classifier with Early Stopping'),\n",
              " Model('RandomForest Classifier (Entropy)'),\n",
              " Model('Elastic-Net Classifier (mixing alpha=0.5 / Binomial Deviance)'),\n",
              " Model('Gradient Boosted Trees Classifier'),\n",
              " Model('ExtraTrees Classifier (Gini)'),\n",
              " Model('RandomForest Classifier (Gini)'),\n",
              " Model('Light Gradient Boosted Trees Classifier with Early Stopping'),\n",
              " Model('Nystroem Kernel SVM Classifier'),\n",
              " Model('ExtraTrees Classifier (Gini)'),\n",
              " Model('Vowpal Wabbit Classifier'),\n",
              " Model('Nystroem Kernel SVM Classifier'),\n",
              " Model('RandomForest Classifier (Entropy)'),\n",
              " Model('Gradient Boosted Trees Classifier'),\n",
              " Model('RandomForest Classifier (Gini)'),\n",
              " Model('Gradient Boosted Trees Classifier'),\n",
              " Model('Vowpal Wabbit Classifier'),\n",
              " Model('Auto-tuned K-Nearest Neighbors Classifier (Euclidean Distance)'),\n",
              " Model('Elastic-Net Classifier (L2 / Binomial Deviance) with Binned numeric features'),\n",
              " Model('Auto-tuned K-Nearest Neighbors Classifier (Euclidean Distance)'),\n",
              " Model('Generalized Additive2 Model'),\n",
              " Model('Gradient Boosted Greedy Trees Classifier with Early Stopping'),\n",
              " Model('Elastic-Net Classifier (mixing alpha=0.5 / Binomial Deviance)'),\n",
              " Model('eXtreme Gradient Boosted Trees Classifier with Early Stopping'),\n",
              " Model('eXtreme Gradient Boosted Trees Classifier with Early Stopping and Unsupervised Learning Features'),\n",
              " Model('Elastic-Net Classifier (L2 / Binomial Deviance)'),\n",
              " Model('Auto-tuned K-Nearest Neighbors Classifier (Euclidean Distance)'),\n",
              " Model('Regularized Logistic Regression (L2)'),\n",
              " Model('Regularized Logistic Regression (L2)'),\n",
              " Model('Auto-Tuned Word N-Gram Text Modeler using token occurrences - desc'),\n",
              " Model('Light Gradient Boosting on ElasticNet Predictions '),\n",
              " Model('eXtreme Gradient Boosted Trees Classifier with Early Stopping'),\n",
              " Model('eXtreme Gradient Boosted Trees Classifier with Early Stopping'),\n",
              " Model('Elastic-Net Classifier (mixing alpha=0.5 / Binomial Deviance)'),\n",
              " Model('Elastic-Net Classifier (mixing alpha=0.5 / Binomial Deviance) with Unsupervised Learning Features'),\n",
              " Model('RandomForest Classifier (Gini)'),\n",
              " Model('Auto-Tuned Word N-Gram Text Modeler using token occurrences - title'),\n",
              " Model('Eureqa Generalized Additive Model Classifier (1000 Generations)'),\n",
              " Model('Elastic-Net Classifier (mixing alpha=0.5 / Binomial Deviance)'),\n",
              " Model('Auto-Tuned Word N-Gram Text Modeler using token occurrences - emp_title'),\n",
              " Model('Auto-Tuned Word N-Gram Text Modeler using token occurrences - emp_title'),\n",
              " Model('Auto-Tuned Word N-Gram Text Modeler using token occurrences - emp_title'),\n",
              " Model('Elastic-Net Classifier (L2 / Binomial Deviance) with Binned numeric features'),\n",
              " Model('Auto-Tuned Word N-Gram Text Modeler using token occurrences - emp_title'),\n",
              " Model('Auto-Tuned Word N-Gram Text Modeler using token occurrences - title'),\n",
              " Model('Auto-Tuned Word N-Gram Text Modeler using token occurrences - title'),\n",
              " Model('Regularized Logistic Regression (L2)'),\n",
              " Model('Auto-Tuned Word N-Gram Text Modeler using token occurrences - title'),\n",
              " Model('Auto-Tuned Word N-Gram Text Modeler using token occurrences - desc'),\n",
              " Model('Majority Class Classifier'),\n",
              " Model('Auto-Tuned Word N-Gram Text Modeler using token occurrences - url'),\n",
              " Model('Auto-Tuned Word N-Gram Text Modeler using token occurrences - url'),\n",
              " Model('Auto-Tuned Word N-Gram Text Modeler using token occurrences - url'),\n",
              " Model('Auto-Tuned Word N-Gram Text Modeler using token occurrences - desc'),\n",
              " Model('Elastic-Net Classifier (L2 / Binomial Deviance)'),\n",
              " Model('Auto-Tuned Word N-Gram Text Modeler using token occurrences - url'),\n",
              " Model('eXtreme Gradient Boosted Trees Classifier with Early Stopping'),\n",
              " Model('RuleFit Classifier'),\n",
              " Model('Breiman and Cutler Random Forest Classifier'),\n",
              " Model('Keras Slim Residual Neural Network Classifier using Training Schedule (1 Layer: 64 Units)'),\n",
              " Model('Naive Bayes combiner classifier'),\n",
              " Model('Logistic Regression'),\n",
              " Model('Decision Tree Classifier (Gini)'),\n",
              " Model('Isolation Forest Anomaly Detection')]"
            ]
          },
          "metadata": {
            "tags": []
          },
          "execution_count": 38
        }
      ]
    },
    {
      "cell_type": "code",
      "metadata": {
        "id": "bVScRuLmdh-H"
      },
      "source": [
        "model = models[0]"
      ],
      "execution_count": 45,
      "outputs": []
    },
    {
      "cell_type": "code",
      "metadata": {
        "id": "1u8jNYGazIZ3",
        "colab": {
          "base_uri": "https://localhost:8080/"
        },
        "outputId": "1e6b9c83-e22f-4f90-d7d3-2a1acb062e31"
      },
      "source": [
        "model"
      ],
      "execution_count": 69,
      "outputs": [
        {
          "output_type": "execute_result",
          "data": {
            "text/plain": [
              "Model('Gradient Boosted Trees Classifier with Early Stopping')"
            ]
          },
          "metadata": {
            "tags": []
          },
          "execution_count": 69
        }
      ]
    },
    {
      "cell_type": "code",
      "metadata": {
        "id": "bByzhlAAlXpb",
        "colab": {
          "base_uri": "https://localhost:8080/"
        },
        "outputId": "0ea78392-5059-4977-9896-9a854d1bc796"
      },
      "source": [
        "model.processes"
      ],
      "execution_count": 58,
      "outputs": [
        {
          "output_type": "execute_result",
          "data": {
            "text/plain": [
              "['Ordinal encoding of categorical variables',\n",
              " 'Missing Values Imputed',\n",
              " 'Converter for Text Mining',\n",
              " 'Auto-Tuned Word N-Gram Text Modeler using token occurrences',\n",
              " 'Gradient Boosted Trees Classifier with Early Stopping']"
            ]
          },
          "metadata": {
            "tags": []
          },
          "execution_count": 58
        }
      ]
    },
    {
      "cell_type": "code",
      "metadata": {
        "id": "WexlVQI-6I3E",
        "colab": {
          "base_uri": "https://localhost:8080/",
          "height": 317
        },
        "outputId": "3781838c-7b96-4f90-c69b-126c5e9dbdd3"
      },
      "source": [
        "with open(\"graph.dot\", \"w\") as f:\n",
        "  f.write(model.get_model_blueprint_chart().to_graphviz())\n",
        "!dot -Tsvg graph.dot -o graph.svg -Gdpi=50\n",
        "from IPython.core.display import SVG\n",
        "SVG(filename='graph.svg')"
      ],
      "execution_count": 46,
      "outputs": [
        {
          "output_type": "execute_result",
          "data": {
            "text/plain": [
              "<IPython.core.display.SVG object>"
            ],
            "image/svg+xml": "<svg height=\"207pt\" viewBox=\"0.00 0.00 2045.14 298.00\" width=\"1420pt\" xmlns=\"http://www.w3.org/2000/svg\" xmlns:xlink=\"http://www.w3.org/1999/xlink\">\n<g class=\"graph\" id=\"graph0\" transform=\"scale(.6944 .6944) rotate(0) translate(4 294)\">\n<title>Blueprint Chart</title>\n<polygon fill=\"#ffffff\" points=\"-4,4 -4,-294 2041.1384,-294 2041.1384,4 -4,4\" stroke=\"transparent\"/>\n<!-- 0 -->\n<g class=\"node\" id=\"node1\">\n<title>0</title>\n<ellipse cx=\"27.9475\" cy=\"-72\" fill=\"none\" rx=\"27.8951\" ry=\"18\" stroke=\"#000000\"/>\n<text fill=\"#000000\" font-family=\"Times,serif\" font-size=\"14.00\" text-anchor=\"middle\" x=\"27.9475\" y=\"-68.3\">Data</text>\n</g>\n<!-- &#45;3 -->\n<g class=\"node\" id=\"node2\">\n<title>-3</title>\n<ellipse cx=\"180.9371\" cy=\"-164\" fill=\"none\" rx=\"63.8893\" ry=\"18\" stroke=\"#000000\"/>\n<text fill=\"#000000\" font-family=\"Times,serif\" font-size=\"14.00\" text-anchor=\"middle\" x=\"180.9371\" y=\"-160.3\">Text Variables</text>\n</g>\n<!-- 0&#45;&gt;&#45;3 -->\n<g class=\"edge\" id=\"edge1\">\n<title>0-&gt;-3</title>\n<path d=\"M48.5804,-84.4075C73.1942,-99.209 114.7747,-124.2134 144.7699,-142.2509\" fill=\"none\" stroke=\"#000000\"/>\n<polygon fill=\"#000000\" points=\"143.3017,-145.4521 153.6752,-147.6061 146.9091,-139.4532 143.3017,-145.4521\" stroke=\"#000000\"/>\n</g>\n<!-- &#45;2 -->\n<g class=\"node\" id=\"node14\">\n<title>-2</title>\n<ellipse cx=\"180.9371\" cy=\"-72\" fill=\"none\" rx=\"79.0865\" ry=\"18\" stroke=\"#000000\"/>\n<text fill=\"#000000\" font-family=\"Times,serif\" font-size=\"14.00\" text-anchor=\"middle\" x=\"180.9371\" y=\"-68.3\">Numeric Variables</text>\n</g>\n<!-- 0&#45;&gt;&#45;2 -->\n<g class=\"edge\" id=\"edge16\">\n<title>0-&gt;-2</title>\n<path d=\"M56.0082,-72C66.2863,-72 78.5463,-72 91.309,-72\" fill=\"none\" stroke=\"#000000\"/>\n<polygon fill=\"#000000\" points=\"91.6241,-75.5001 101.6241,-72 91.624,-68.5001 91.6241,-75.5001\" stroke=\"#000000\"/>\n</g>\n<!-- &#45;1 -->\n<g class=\"node\" id=\"node16\">\n<title>-1</title>\n<ellipse cx=\"180.9371\" cy=\"-18\" fill=\"none\" rx=\"89.0842\" ry=\"18\" stroke=\"#000000\"/>\n<text fill=\"#000000\" font-family=\"Times,serif\" font-size=\"14.00\" text-anchor=\"middle\" x=\"180.9371\" y=\"-14.3\">Categorical Variables</text>\n</g>\n<!-- 0&#45;&gt;&#45;1 -->\n<g class=\"edge\" id=\"edge19\">\n<title>0-&gt;-1</title>\n<path d=\"M51.1013,-61.5304C63.1462,-56.2615 78.1822,-49.9584 91.895,-45 100.5967,-41.8535 109.8623,-38.7634 119.0038,-35.8618\" fill=\"none\" stroke=\"#000000\"/>\n<polygon fill=\"#000000\" points=\"120.3376,-39.1122 128.842,-32.7936 118.2535,-32.4296 120.3376,-39.1122\" stroke=\"#000000\"/>\n</g>\n<!-- 3 -->\n<g class=\"node\" id=\"node3\">\n<title>3</title>\n<ellipse cx=\"416.4694\" cy=\"-272\" fill=\"none\" rx=\"110.4804\" ry=\"18\" stroke=\"#000000\"/>\n<text fill=\"#000000\" font-family=\"Times,serif\" font-size=\"14.00\" text-anchor=\"middle\" x=\"416.4694\" y=\"-268.3\">Converter for Text Mining</text>\n</g>\n<!-- &#45;3&#45;&gt;3 -->\n<g class=\"edge\" id=\"edge2\">\n<title>-3-&gt;3</title>\n<path d=\"M202.2495,-181.0208C226.1742,-199.3334 266.7916,-228.0962 305.9792,-245 315.1585,-248.9595 325.0281,-252.4089 334.9562,-255.395\" fill=\"none\" stroke=\"#000000\"/>\n<polygon fill=\"#000000\" points=\"334.3036,-258.8485 344.8803,-258.2285 336.2255,-252.1175 334.3036,-258.8485\" stroke=\"#000000\"/>\n</g>\n<!-- 5 -->\n<g class=\"node\" id=\"node8\">\n<title>5</title>\n<ellipse cx=\"416.4694\" cy=\"-218\" fill=\"none\" rx=\"110.4804\" ry=\"18\" stroke=\"#000000\"/>\n<text fill=\"#000000\" font-family=\"Times,serif\" font-size=\"14.00\" text-anchor=\"middle\" x=\"416.4694\" y=\"-214.3\">Converter for Text Mining</text>\n</g>\n<!-- &#45;3&#45;&gt;5 -->\n<g class=\"edge\" id=\"edge7\">\n<title>-3-&gt;5</title>\n<path d=\"M230.5997,-175.386C262.9219,-182.7965 305.6723,-192.5978 342.024,-200.9321\" fill=\"none\" stroke=\"#000000\"/>\n<polygon fill=\"#000000\" points=\"341.5641,-204.4174 352.0934,-203.2406 343.1285,-197.5944 341.5641,-204.4174\" stroke=\"#000000\"/>\n</g>\n<!-- 7 -->\n<g class=\"node\" id=\"node10\">\n<title>7</title>\n<ellipse cx=\"416.4694\" cy=\"-164\" fill=\"none\" rx=\"110.4804\" ry=\"18\" stroke=\"#000000\"/>\n<text fill=\"#000000\" font-family=\"Times,serif\" font-size=\"14.00\" text-anchor=\"middle\" x=\"416.4694\" y=\"-160.3\">Converter for Text Mining</text>\n</g>\n<!-- &#45;3&#45;&gt;7 -->\n<g class=\"edge\" id=\"edge10\">\n<title>-3-&gt;7</title>\n<path d=\"M244.6756,-164C260.5058,-164 277.9989,-164 295.5847,-164\" fill=\"none\" stroke=\"#000000\"/>\n<polygon fill=\"#000000\" points=\"295.9379,-167.5001 305.9379,-164 295.9378,-160.5001 295.9379,-167.5001\" stroke=\"#000000\"/>\n</g>\n<!-- 9 -->\n<g class=\"node\" id=\"node12\">\n<title>9</title>\n<ellipse cx=\"416.4694\" cy=\"-110\" fill=\"none\" rx=\"110.4804\" ry=\"18\" stroke=\"#000000\"/>\n<text fill=\"#000000\" font-family=\"Times,serif\" font-size=\"14.00\" text-anchor=\"middle\" x=\"416.4694\" y=\"-106.3\">Converter for Text Mining</text>\n</g>\n<!-- &#45;3&#45;&gt;9 -->\n<g class=\"edge\" id=\"edge13\">\n<title>-3-&gt;9</title>\n<path d=\"M230.5997,-152.614C262.9219,-145.2035 305.6723,-135.4022 342.024,-127.0679\" fill=\"none\" stroke=\"#000000\"/>\n<polygon fill=\"#000000\" points=\"343.1285,-130.4056 352.0934,-124.7594 341.5641,-123.5826 343.1285,-130.4056\" stroke=\"#000000\"/>\n</g>\n<!-- 4 -->\n<g class=\"node\" id=\"node4\">\n<title>4</title>\n<ellipse cx=\"820.9867\" cy=\"-272\" fill=\"none\" rx=\"258.0542\" ry=\"18\" stroke=\"#000000\"/>\n<text fill=\"#000000\" font-family=\"Times,serif\" font-size=\"14.00\" text-anchor=\"middle\" x=\"820.9867\" y=\"-268.3\">Auto-Tuned Word N-Gram Text Modeler using token occurrences</text>\n</g>\n<!-- 3&#45;&gt;4 -->\n<g class=\"edge\" id=\"edge3\">\n<title>3-&gt;4</title>\n<path d=\"M527.0056,-272C535.2441,-272 543.7403,-272 552.4197,-272\" fill=\"none\" stroke=\"#000000\"/>\n<polygon fill=\"#000000\" points=\"552.6882,-275.5001 562.6881,-272 552.6881,-268.5001 552.6882,-275.5001\" stroke=\"#000000\"/>\n</g>\n<!-- 11 -->\n<g class=\"node\" id=\"node5\">\n<title>11</title>\n<ellipse cx=\"1278.1494\" cy=\"-164\" fill=\"none\" rx=\"64.189\" ry=\"18\" stroke=\"#000000\"/>\n<text fill=\"#000000\" font-family=\"Times,serif\" font-size=\"14.00\" text-anchor=\"middle\" x=\"1278.1494\" y=\"-160.3\">Bind branches</text>\n</g>\n<!-- 4&#45;&gt;11 -->\n<g class=\"edge\" id=\"edge4\">\n<title>4-&gt;11</title>\n<path d=\"M1004.3048,-259.2791C1029.6005,-255.6502 1055.0921,-250.9884 1079.0138,-245 1136.1628,-230.6939 1198.5441,-203.2353 1237.9787,-184.2823\" fill=\"none\" stroke=\"#000000\"/>\n<polygon fill=\"#000000\" points=\"1239.539,-187.4155 1247.006,-179.8992 1236.4815,-181.1186 1239.539,-187.4155\" stroke=\"#000000\"/>\n</g>\n<!-- 12 -->\n<g class=\"node\" id=\"node6\">\n<title>12</title>\n<ellipse cx=\"1690.466\" cy=\"-72\" fill=\"none\" rx=\"213.3623\" ry=\"18\" stroke=\"#000000\"/>\n<text fill=\"#000000\" font-family=\"Times,serif\" font-size=\"14.00\" text-anchor=\"middle\" x=\"1690.466\" y=\"-68.3\">Gradient Boosted Trees Classifier with Early Stopping</text>\n</g>\n<!-- 11&#45;&gt;12 -->\n<g class=\"edge\" id=\"edge5\">\n<title>11-&gt;12</title>\n<path d=\"M1328.7075,-152.719C1397.5186,-137.3652 1521.6229,-109.6739 1605.0276,-91.0638\" fill=\"none\" stroke=\"#000000\"/>\n<polygon fill=\"#000000\" points=\"1605.9929,-94.4346 1614.9907,-88.8408 1604.4685,-87.6026 1605.9929,-94.4346\" stroke=\"#000000\"/>\n</g>\n<!-- 13 -->\n<g class=\"node\" id=\"node7\">\n<title>13</title>\n<ellipse cx=\"1988.3927\" cy=\"-72\" fill=\"none\" rx=\"48.9926\" ry=\"18\" stroke=\"#000000\"/>\n<text fill=\"#000000\" font-family=\"Times,serif\" font-size=\"14.00\" text-anchor=\"middle\" x=\"1988.3927\" y=\"-68.3\">Prediction</text>\n</g>\n<!-- 12&#45;&gt;13 -->\n<g class=\"edge\" id=\"edge6\">\n<title>12-&gt;13</title>\n<path d=\"M1903.8158,-72C1912.7654,-72 1921.331,-72 1929.3422,-72\" fill=\"none\" stroke=\"#000000\"/>\n<polygon fill=\"#000000\" points=\"1929.5402,-75.5001 1939.5402,-72 1929.5402,-68.5001 1929.5402,-75.5001\" stroke=\"#000000\"/>\n</g>\n<!-- 6 -->\n<g class=\"node\" id=\"node9\">\n<title>6</title>\n<ellipse cx=\"820.9867\" cy=\"-218\" fill=\"none\" rx=\"258.0542\" ry=\"18\" stroke=\"#000000\"/>\n<text fill=\"#000000\" font-family=\"Times,serif\" font-size=\"14.00\" text-anchor=\"middle\" x=\"820.9867\" y=\"-214.3\">Auto-Tuned Word N-Gram Text Modeler using token occurrences</text>\n</g>\n<!-- 5&#45;&gt;6 -->\n<g class=\"edge\" id=\"edge8\">\n<title>5-&gt;6</title>\n<path d=\"M527.0056,-218C535.2441,-218 543.7403,-218 552.4197,-218\" fill=\"none\" stroke=\"#000000\"/>\n<polygon fill=\"#000000\" points=\"552.6882,-221.5001 562.6881,-218 552.6881,-214.5001 552.6882,-221.5001\" stroke=\"#000000\"/>\n</g>\n<!-- 6&#45;&gt;11 -->\n<g class=\"edge\" id=\"edge9\">\n<title>6-&gt;11</title>\n<path d=\"M969.4581,-203.2467C1005.348,-199.4642 1043.5735,-195.2558 1079.0138,-191 1122.8952,-185.7305 1172.11,-179.0647 1210.6346,-173.6748\" fill=\"none\" stroke=\"#000000\"/>\n<polygon fill=\"#000000\" points=\"1211.2787,-177.1188 1220.6949,-172.2623 1210.3054,-170.1868 1211.2787,-177.1188\" stroke=\"#000000\"/>\n</g>\n<!-- 8 -->\n<g class=\"node\" id=\"node11\">\n<title>8</title>\n<ellipse cx=\"820.9867\" cy=\"-164\" fill=\"none\" rx=\"258.0542\" ry=\"18\" stroke=\"#000000\"/>\n<text fill=\"#000000\" font-family=\"Times,serif\" font-size=\"14.00\" text-anchor=\"middle\" x=\"820.9867\" y=\"-160.3\">Auto-Tuned Word N-Gram Text Modeler using token occurrences</text>\n</g>\n<!-- 7&#45;&gt;8 -->\n<g class=\"edge\" id=\"edge11\">\n<title>7-&gt;8</title>\n<path d=\"M527.0056,-164C535.2441,-164 543.7403,-164 552.4197,-164\" fill=\"none\" stroke=\"#000000\"/>\n<polygon fill=\"#000000\" points=\"552.6882,-167.5001 562.6881,-164 552.6881,-160.5001 552.6882,-167.5001\" stroke=\"#000000\"/>\n</g>\n<!-- 8&#45;&gt;11 -->\n<g class=\"edge\" id=\"edge12\">\n<title>8-&gt;11</title>\n<path d=\"M1079.2934,-164C1124.7684,-164 1168.6467,-164 1203.5633,-164\" fill=\"none\" stroke=\"#000000\"/>\n<polygon fill=\"#000000\" points=\"1203.6344,-167.5001 1213.6343,-164 1203.6343,-160.5001 1203.6344,-167.5001\" stroke=\"#000000\"/>\n</g>\n<!-- 10 -->\n<g class=\"node\" id=\"node13\">\n<title>10</title>\n<ellipse cx=\"820.9867\" cy=\"-110\" fill=\"none\" rx=\"258.0542\" ry=\"18\" stroke=\"#000000\"/>\n<text fill=\"#000000\" font-family=\"Times,serif\" font-size=\"14.00\" text-anchor=\"middle\" x=\"820.9867\" y=\"-106.3\">Auto-Tuned Word N-Gram Text Modeler using token occurrences</text>\n</g>\n<!-- 9&#45;&gt;10 -->\n<g class=\"edge\" id=\"edge14\">\n<title>9-&gt;10</title>\n<path d=\"M527.0056,-110C535.2441,-110 543.7403,-110 552.4197,-110\" fill=\"none\" stroke=\"#000000\"/>\n<polygon fill=\"#000000\" points=\"552.6882,-113.5001 562.6881,-110 552.6881,-106.5001 552.6882,-113.5001\" stroke=\"#000000\"/>\n</g>\n<!-- 10&#45;&gt;11 -->\n<g class=\"edge\" id=\"edge15\">\n<title>10-&gt;11</title>\n<path d=\"M969.4581,-124.7533C1005.348,-128.5358 1043.5735,-132.7442 1079.0138,-137 1122.8952,-142.2695 1172.11,-148.9353 1210.6346,-154.3252\" fill=\"none\" stroke=\"#000000\"/>\n<polygon fill=\"#000000\" points=\"1210.3054,-157.8132 1220.6949,-155.7377 1211.2787,-150.8812 1210.3054,-157.8132\" stroke=\"#000000\"/>\n</g>\n<!-- 2 -->\n<g class=\"node\" id=\"node15\">\n<title>2</title>\n<ellipse cx=\"1278.1494\" cy=\"-72\" fill=\"none\" rx=\"100.9827\" ry=\"18\" stroke=\"#000000\"/>\n<text fill=\"#000000\" font-family=\"Times,serif\" font-size=\"14.00\" text-anchor=\"middle\" x=\"1278.1494\" y=\"-68.3\">Missing Values Imputed</text>\n</g>\n<!-- &#45;2&#45;&gt;2 -->\n<g class=\"edge\" id=\"edge17\">\n<title>-2-&gt;2</title>\n<path d=\"M260.2873,-72C452.8759,-72 945.4687,-72 1167.1257,-72\" fill=\"none\" stroke=\"#000000\"/>\n<polygon fill=\"#000000\" points=\"1167.1518,-75.5001 1177.1518,-72 1167.1518,-68.5001 1167.1518,-75.5001\" stroke=\"#000000\"/>\n</g>\n<!-- 2&#45;&gt;12 -->\n<g class=\"edge\" id=\"edge18\">\n<title>2-&gt;12</title>\n<path d=\"M1379.0134,-72C1406.0119,-72 1436.3037,-72 1467.1114,-72\" fill=\"none\" stroke=\"#000000\"/>\n<polygon fill=\"#000000\" points=\"1467.1285,-75.5001 1477.1284,-72 1467.1284,-68.5001 1467.1285,-75.5001\" stroke=\"#000000\"/>\n</g>\n<!-- 1 -->\n<g class=\"node\" id=\"node17\">\n<title>1</title>\n<ellipse cx=\"1278.1494\" cy=\"-18\" fill=\"none\" rx=\"163.2712\" ry=\"18\" stroke=\"#000000\"/>\n<text fill=\"#000000\" font-family=\"Times,serif\" font-size=\"14.00\" text-anchor=\"middle\" x=\"1278.1494\" y=\"-14.3\">Ordinal encoding of categorical variables</text>\n</g>\n<!-- &#45;1&#45;&gt;1 -->\n<g class=\"edge\" id=\"edge20\">\n<title>-1-&gt;1</title>\n<path d=\"M270.2614,-18C452.1176,-18 868.1264,-18 1104.9067,-18\" fill=\"none\" stroke=\"#000000\"/>\n<polygon fill=\"#000000\" points=\"1104.9976,-21.5001 1114.9976,-18 1104.9975,-14.5001 1104.9976,-21.5001\" stroke=\"#000000\"/>\n</g>\n<!-- 1&#45;&gt;12 -->\n<g class=\"edge\" id=\"edge21\">\n<title>1-&gt;12</title>\n<path d=\"M1383.2611,-31.7662C1438.5194,-39.0032 1506.6454,-47.9255 1564.6909,-55.5276\" fill=\"none\" stroke=\"#000000\"/>\n<polygon fill=\"#000000\" points=\"1564.2894,-59.0048 1574.6593,-56.8331 1565.1985,-52.0641 1564.2894,-59.0048\" stroke=\"#000000\"/>\n</g>\n</g>\n</svg>"
          },
          "metadata": {
            "tags": []
          },
          "execution_count": 46
        }
      ]
    },
    {
      "cell_type": "code",
      "metadata": {
        "id": "jrmoaUcdhPHV"
      },
      "source": [
        "model.star_model()"
      ],
      "execution_count": 72,
      "outputs": []
    },
    {
      "cell_type": "code",
      "metadata": {
        "id": "oIZssPM6lilD",
        "colab": {
          "base_uri": "https://localhost:8080/"
        },
        "outputId": "8b61aead-27ec-490b-dc02-1e32fc537ca1"
      },
      "source": [
        "feature_impact = pd.DataFrame(model.get_or_request_feature_impact()).set_index(\"featureName\")[\"impactUnnormalized\"].sort_values(ascending = False)\n",
        "feature_impact"
      ],
      "execution_count": 55,
      "outputs": [
        {
          "output_type": "execute_result",
          "data": {
            "text/plain": [
              "featureName\n",
              "desc                              0.018194\n",
              "annual_inc                        0.013130\n",
              "int_rate                          0.012971\n",
              "title                             0.012084\n",
              "term                              0.008825\n",
              "grade                             0.005665\n",
              "inq_last_6mths                    0.004245\n",
              "revol_util                        0.003257\n",
              "open_acc                          0.001863\n",
              "loan_amnt                         0.001850\n",
              "zip_code                          0.001737\n",
              "funded_amnt                       0.001193\n",
              "earliest_cr_line (Year)           0.001159\n",
              "revol_bal                         0.001143\n",
              "mths_since_last_record            0.001136\n",
              "emp_title                         0.001049\n",
              "sub_grade                         0.000983\n",
              "purpose                           0.000902\n",
              "dti                               0.000651\n",
              "addr_state                        0.000641\n",
              "installment                       0.000618\n",
              "mths_since_last_delinq            0.000472\n",
              "earliest_cr_line (Month)          0.000463\n",
              "emp_length                        0.000415\n",
              "total_acc                         0.000401\n",
              "verification_status               0.000263\n",
              "home_ownership                    0.000120\n",
              "earliest_cr_line (Day of Week)    0.000103\n",
              "delinq_2yrs                       0.000053\n",
              "pub_rec                           0.000000\n",
              "url                              -0.000158\n",
              "Name: impactUnnormalized, dtype: float64"
            ]
          },
          "metadata": {
            "tags": []
          },
          "execution_count": 55
        }
      ]
    },
    {
      "cell_type": "markdown",
      "metadata": {
        "id": "2lb2dAI6lnd5"
      },
      "source": [
        "Other things availabe\n",
        "* Details from ROC curve table\n",
        "* Feature Effects"
      ]
    },
    {
      "cell_type": "markdown",
      "metadata": {
        "id": "XYv0JiVMlqMB"
      },
      "source": [
        "## Leaderboard"
      ]
    },
    {
      "cell_type": "code",
      "metadata": {
        "id": "MBRB2DZZlsOt",
        "colab": {
          "base_uri": "https://localhost:8080/",
          "height": 35
        },
        "outputId": "c9688313-bab0-4d0a-a71b-da02859ab204"
      },
      "source": [
        "project.get_leaderboard_ui_permalink()"
      ],
      "execution_count": 77,
      "outputs": [
        {
          "output_type": "execute_result",
          "data": {
            "application/vnd.google.colaboratory.intrinsic+json": {
              "type": "string"
            },
            "text/plain": [
              "'https://app.datarobot.com/projects/5fc875dad45c89e413556c1b/models'"
            ]
          },
          "metadata": {
            "tags": []
          },
          "execution_count": 77
        }
      ]
    },
    {
      "cell_type": "code",
      "metadata": {
        "id": "yWXVWWp6lv5L"
      },
      "source": [
        "def build_leaderboard(project, metric=project.metric):\n",
        "    leaderboard = []\n",
        "    models = project.get_models()\n",
        "    for model in models:\n",
        "        temp = model.metrics[metric]\n",
        "        temp[\"Model\"] = str(model)\n",
        "        temp[\"featurelist\"] = model.featurelist_name\n",
        "        temp[\"sample_pct\"] = model.sample_pct\n",
        "        leaderboard.append(temp)\n",
        "    leaderboard_df = pd.DataFrame(leaderboard)[[\"Model\", \"featurelist\", \"sample_pct\", \"validation\", \"crossValidation\", \"holdout\"]]\n",
        "    return leaderboard_df"
      ],
      "execution_count": 47,
      "outputs": []
    },
    {
      "cell_type": "code",
      "metadata": {
        "id": "86Cd5g0Vl0ru",
        "colab": {
          "base_uri": "https://localhost:8080/",
          "height": 589
        },
        "outputId": "057d33d3-6a6d-4a62-a759-c2ab92a4c39b"
      },
      "source": [
        "build_leaderboard(project, \"AUC\")"
      ],
      "execution_count": 48,
      "outputs": [
        {
          "output_type": "execute_result",
          "data": {
            "text/html": [
              "<div>\n",
              "<style scoped>\n",
              "    .dataframe tbody tr th:only-of-type {\n",
              "        vertical-align: middle;\n",
              "    }\n",
              "\n",
              "    .dataframe tbody tr th {\n",
              "        vertical-align: top;\n",
              "    }\n",
              "\n",
              "    .dataframe thead th {\n",
              "        text-align: right;\n",
              "    }\n",
              "</style>\n",
              "<table border=\"1\" class=\"dataframe\">\n",
              "  <thead>\n",
              "    <tr style=\"text-align: right;\">\n",
              "      <th></th>\n",
              "      <th>Model</th>\n",
              "      <th>featurelist</th>\n",
              "      <th>sample_pct</th>\n",
              "      <th>validation</th>\n",
              "      <th>crossValidation</th>\n",
              "      <th>holdout</th>\n",
              "    </tr>\n",
              "  </thead>\n",
              "  <tbody>\n",
              "    <tr>\n",
              "      <th>0</th>\n",
              "      <td>Model('eXtreme Gradient Boosted Trees Classifi...</td>\n",
              "      <td>Informative Features</td>\n",
              "      <td>80.0</td>\n",
              "      <td>0.67450</td>\n",
              "      <td>0.706810</td>\n",
              "      <td>NaN</td>\n",
              "    </tr>\n",
              "    <tr>\n",
              "      <th>1</th>\n",
              "      <td>Model('Gradient Boosted Trees Classifier with ...</td>\n",
              "      <td>Informative Features</td>\n",
              "      <td>64.0</td>\n",
              "      <td>0.66533</td>\n",
              "      <td>0.698568</td>\n",
              "      <td>NaN</td>\n",
              "    </tr>\n",
              "    <tr>\n",
              "      <th>2</th>\n",
              "      <td>Model('AVG Blender')</td>\n",
              "      <td>Informative Features</td>\n",
              "      <td>64.0</td>\n",
              "      <td>0.66728</td>\n",
              "      <td>0.704052</td>\n",
              "      <td>NaN</td>\n",
              "    </tr>\n",
              "    <tr>\n",
              "      <th>3</th>\n",
              "      <td>Model('ENET Blender')</td>\n",
              "      <td>Informative Features</td>\n",
              "      <td>64.0</td>\n",
              "      <td>0.66728</td>\n",
              "      <td>0.704082</td>\n",
              "      <td>NaN</td>\n",
              "    </tr>\n",
              "    <tr>\n",
              "      <th>4</th>\n",
              "      <td>Model('eXtreme Gradient Boosted Trees Classifi...</td>\n",
              "      <td>Informative Features</td>\n",
              "      <td>64.0</td>\n",
              "      <td>0.66860</td>\n",
              "      <td>0.698340</td>\n",
              "      <td>NaN</td>\n",
              "    </tr>\n",
              "    <tr>\n",
              "      <th>...</th>\n",
              "      <td>...</td>\n",
              "      <td>...</td>\n",
              "      <td>...</td>\n",
              "      <td>...</td>\n",
              "      <td>...</td>\n",
              "      <td>...</td>\n",
              "    </tr>\n",
              "    <tr>\n",
              "      <th>85</th>\n",
              "      <td>Model('Keras Slim Residual Neural Network Clas...</td>\n",
              "      <td>Informative Features</td>\n",
              "      <td>16.0</td>\n",
              "      <td>0.61947</td>\n",
              "      <td>NaN</td>\n",
              "      <td>NaN</td>\n",
              "    </tr>\n",
              "    <tr>\n",
              "      <th>86</th>\n",
              "      <td>Model('Naive Bayes combiner classifier')</td>\n",
              "      <td>Informative Features</td>\n",
              "      <td>16.0</td>\n",
              "      <td>0.62699</td>\n",
              "      <td>NaN</td>\n",
              "      <td>NaN</td>\n",
              "    </tr>\n",
              "    <tr>\n",
              "      <th>87</th>\n",
              "      <td>Model('Logistic Regression')</td>\n",
              "      <td>Informative Features</td>\n",
              "      <td>16.0</td>\n",
              "      <td>0.60225</td>\n",
              "      <td>NaN</td>\n",
              "      <td>NaN</td>\n",
              "    </tr>\n",
              "    <tr>\n",
              "      <th>88</th>\n",
              "      <td>Model('Decision Tree Classifier (Gini)')</td>\n",
              "      <td>Informative Features</td>\n",
              "      <td>16.0</td>\n",
              "      <td>0.60790</td>\n",
              "      <td>NaN</td>\n",
              "      <td>NaN</td>\n",
              "    </tr>\n",
              "    <tr>\n",
              "      <th>89</th>\n",
              "      <td>Model('Isolation Forest Anomaly Detection')</td>\n",
              "      <td>Informative Features</td>\n",
              "      <td>16.0</td>\n",
              "      <td>0.51520</td>\n",
              "      <td>NaN</td>\n",
              "      <td>NaN</td>\n",
              "    </tr>\n",
              "  </tbody>\n",
              "</table>\n",
              "<p>90 rows × 6 columns</p>\n",
              "</div>"
            ],
            "text/plain": [
              "                                                Model  ... holdout\n",
              "0   Model('eXtreme Gradient Boosted Trees Classifi...  ...     NaN\n",
              "1   Model('Gradient Boosted Trees Classifier with ...  ...     NaN\n",
              "2                                Model('AVG Blender')  ...     NaN\n",
              "3                               Model('ENET Blender')  ...     NaN\n",
              "4   Model('eXtreme Gradient Boosted Trees Classifi...  ...     NaN\n",
              "..                                                ...  ...     ...\n",
              "85  Model('Keras Slim Residual Neural Network Clas...  ...     NaN\n",
              "86           Model('Naive Bayes combiner classifier')  ...     NaN\n",
              "87                       Model('Logistic Regression')  ...     NaN\n",
              "88           Model('Decision Tree Classifier (Gini)')  ...     NaN\n",
              "89        Model('Isolation Forest Anomaly Detection')  ...     NaN\n",
              "\n",
              "[90 rows x 6 columns]"
            ]
          },
          "metadata": {
            "tags": []
          },
          "execution_count": 48
        }
      ]
    },
    {
      "cell_type": "code",
      "metadata": {
        "id": "kEoiIayBl3PD",
        "colab": {
          "base_uri": "https://localhost:8080/",
          "height": 589
        },
        "outputId": "b2256c3b-21bc-4ec9-8385-d1f8e582c8c1"
      },
      "source": [
        "build_leaderboard(project, \"LogLoss\").sort_values(\"validation\", ascending=True)"
      ],
      "execution_count": 50,
      "outputs": [
        {
          "output_type": "execute_result",
          "data": {
            "text/html": [
              "<div>\n",
              "<style scoped>\n",
              "    .dataframe tbody tr th:only-of-type {\n",
              "        vertical-align: middle;\n",
              "    }\n",
              "\n",
              "    .dataframe tbody tr th {\n",
              "        vertical-align: top;\n",
              "    }\n",
              "\n",
              "    .dataframe thead th {\n",
              "        text-align: right;\n",
              "    }\n",
              "</style>\n",
              "<table border=\"1\" class=\"dataframe\">\n",
              "  <thead>\n",
              "    <tr style=\"text-align: right;\">\n",
              "      <th></th>\n",
              "      <th>Model</th>\n",
              "      <th>featurelist</th>\n",
              "      <th>sample_pct</th>\n",
              "      <th>validation</th>\n",
              "      <th>crossValidation</th>\n",
              "      <th>holdout</th>\n",
              "    </tr>\n",
              "  </thead>\n",
              "  <tbody>\n",
              "    <tr>\n",
              "      <th>0</th>\n",
              "      <td>Model('eXtreme Gradient Boosted Trees Classifi...</td>\n",
              "      <td>Informative Features</td>\n",
              "      <td>80.0</td>\n",
              "      <td>0.36457</td>\n",
              "      <td>0.355778</td>\n",
              "      <td>NaN</td>\n",
              "    </tr>\n",
              "    <tr>\n",
              "      <th>1</th>\n",
              "      <td>Model('Gradient Boosted Trees Classifier with ...</td>\n",
              "      <td>Informative Features</td>\n",
              "      <td>64.0</td>\n",
              "      <td>0.36501</td>\n",
              "      <td>0.358322</td>\n",
              "      <td>NaN</td>\n",
              "    </tr>\n",
              "    <tr>\n",
              "      <th>2</th>\n",
              "      <td>Model('AVG Blender')</td>\n",
              "      <td>Informative Features</td>\n",
              "      <td>64.0</td>\n",
              "      <td>0.36508</td>\n",
              "      <td>0.357008</td>\n",
              "      <td>NaN</td>\n",
              "    </tr>\n",
              "    <tr>\n",
              "      <th>3</th>\n",
              "      <td>Model('ENET Blender')</td>\n",
              "      <td>Informative Features</td>\n",
              "      <td>64.0</td>\n",
              "      <td>0.36509</td>\n",
              "      <td>0.356978</td>\n",
              "      <td>NaN</td>\n",
              "    </tr>\n",
              "    <tr>\n",
              "      <th>4</th>\n",
              "      <td>Model('eXtreme Gradient Boosted Trees Classifi...</td>\n",
              "      <td>Informative Features</td>\n",
              "      <td>64.0</td>\n",
              "      <td>0.36544</td>\n",
              "      <td>0.357964</td>\n",
              "      <td>NaN</td>\n",
              "    </tr>\n",
              "    <tr>\n",
              "      <th>...</th>\n",
              "      <td>...</td>\n",
              "      <td>...</td>\n",
              "      <td>...</td>\n",
              "      <td>...</td>\n",
              "      <td>...</td>\n",
              "      <td>...</td>\n",
              "    </tr>\n",
              "    <tr>\n",
              "      <th>85</th>\n",
              "      <td>Model('Keras Slim Residual Neural Network Clas...</td>\n",
              "      <td>Informative Features</td>\n",
              "      <td>16.0</td>\n",
              "      <td>0.42797</td>\n",
              "      <td>NaN</td>\n",
              "      <td>NaN</td>\n",
              "    </tr>\n",
              "    <tr>\n",
              "      <th>86</th>\n",
              "      <td>Model('Naive Bayes combiner classifier')</td>\n",
              "      <td>Informative Features</td>\n",
              "      <td>16.0</td>\n",
              "      <td>0.43701</td>\n",
              "      <td>NaN</td>\n",
              "      <td>NaN</td>\n",
              "    </tr>\n",
              "    <tr>\n",
              "      <th>87</th>\n",
              "      <td>Model('Logistic Regression')</td>\n",
              "      <td>Informative Features</td>\n",
              "      <td>16.0</td>\n",
              "      <td>0.46503</td>\n",
              "      <td>NaN</td>\n",
              "      <td>NaN</td>\n",
              "    </tr>\n",
              "    <tr>\n",
              "      <th>88</th>\n",
              "      <td>Model('Decision Tree Classifier (Gini)')</td>\n",
              "      <td>Informative Features</td>\n",
              "      <td>16.0</td>\n",
              "      <td>0.48316</td>\n",
              "      <td>NaN</td>\n",
              "      <td>NaN</td>\n",
              "    </tr>\n",
              "    <tr>\n",
              "      <th>89</th>\n",
              "      <td>Model('Isolation Forest Anomaly Detection')</td>\n",
              "      <td>Informative Features</td>\n",
              "      <td>16.0</td>\n",
              "      <td>0.59686</td>\n",
              "      <td>NaN</td>\n",
              "      <td>NaN</td>\n",
              "    </tr>\n",
              "  </tbody>\n",
              "</table>\n",
              "<p>90 rows × 6 columns</p>\n",
              "</div>"
            ],
            "text/plain": [
              "                                                Model  ... holdout\n",
              "0   Model('eXtreme Gradient Boosted Trees Classifi...  ...     NaN\n",
              "1   Model('Gradient Boosted Trees Classifier with ...  ...     NaN\n",
              "2                                Model('AVG Blender')  ...     NaN\n",
              "3                               Model('ENET Blender')  ...     NaN\n",
              "4   Model('eXtreme Gradient Boosted Trees Classifi...  ...     NaN\n",
              "..                                                ...  ...     ...\n",
              "85  Model('Keras Slim Residual Neural Network Clas...  ...     NaN\n",
              "86           Model('Naive Bayes combiner classifier')  ...     NaN\n",
              "87                       Model('Logistic Regression')  ...     NaN\n",
              "88           Model('Decision Tree Classifier (Gini)')  ...     NaN\n",
              "89        Model('Isolation Forest Anomaly Detection')  ...     NaN\n",
              "\n",
              "[90 rows x 6 columns]"
            ]
          },
          "metadata": {
            "tags": []
          },
          "execution_count": 50
        }
      ]
    },
    {
      "cell_type": "markdown",
      "metadata": {
        "id": "KZk1JBxRl9VI"
      },
      "source": [
        "### Create a custom feature list\n"
      ]
    },
    {
      "cell_type": "markdown",
      "metadata": {
        "id": "SOEVZNUXLF0E"
      },
      "source": [
        "When we get the list of FeatureLists in this project, we start with the four DataRobot created for us. "
      ]
    },
    {
      "cell_type": "code",
      "metadata": {
        "id": "lJX6ID_Ll6U4",
        "colab": {
          "base_uri": "https://localhost:8080/"
        },
        "outputId": "361e4d64-7b20-4d1a-b79f-ec9dd20645e0"
      },
      "source": [
        "project.get_featurelists()"
      ],
      "execution_count": 41,
      "outputs": [
        {
          "output_type": "execute_result",
          "data": {
            "text/plain": [
              "[Featurelist(Raw Features),\n",
              " Featurelist(Informative Features),\n",
              " Featurelist(Univariate Selections),\n",
              " Featurelist(DR Reduced Features M79)]"
            ]
          },
          "metadata": {
            "tags": []
          },
          "execution_count": 41
        }
      ]
    },
    {
      "cell_type": "markdown",
      "metadata": {
        "id": "M7lrHHDVLL3D"
      },
      "source": [
        "Now we can manually grab the 20 most impactful features from our previous top model."
      ]
    },
    {
      "cell_type": "code",
      "metadata": {
        "id": "gSPTZYCImEPq",
        "colab": {
          "base_uri": "https://localhost:8080/"
        },
        "outputId": "6fed9bf7-7b39-4121-cc5a-842e5ae446c0"
      },
      "source": [
        "#manually define a new feature list\n",
        "new_list_name = \"best_model_top_20\"\n",
        "features_to_include = feature_impact[0:20].index.tolist()\n",
        "features_to_include"
      ],
      "execution_count": 52,
      "outputs": [
        {
          "output_type": "execute_result",
          "data": {
            "text/plain": [
              "['desc',\n",
              " 'annual_inc',\n",
              " 'int_rate',\n",
              " 'title',\n",
              " 'term',\n",
              " 'grade',\n",
              " 'inq_last_6mths',\n",
              " 'revol_util',\n",
              " 'open_acc',\n",
              " 'loan_amnt',\n",
              " 'zip_code',\n",
              " 'funded_amnt',\n",
              " 'earliest_cr_line (Year)',\n",
              " 'revol_bal',\n",
              " 'mths_since_last_record',\n",
              " 'emp_title',\n",
              " 'sub_grade',\n",
              " 'purpose',\n",
              " 'dti',\n",
              " 'addr_state']"
            ]
          },
          "metadata": {
            "tags": []
          },
          "execution_count": 52
        }
      ]
    },
    {
      "cell_type": "markdown",
      "metadata": {
        "id": "J8IfVOcBLU0F"
      },
      "source": [
        "Then we can add that Feature List to the project and run individual models or full Autopilot again if we want to."
      ]
    },
    {
      "cell_type": "code",
      "metadata": {
        "colab": {
          "base_uri": "https://localhost:8080/"
        },
        "id": "PiohOd65Km_2",
        "outputId": "f59a7e66-4073-442f-c73c-ec79d8b76fb2"
      },
      "source": [
        "new_list = project.create_featurelist(new_list_name, features_to_include)\n",
        "project.get_featurelists()"
      ],
      "execution_count": 53,
      "outputs": [
        {
          "output_type": "execute_result",
          "data": {
            "text/plain": [
              "[Featurelist(Raw Features),\n",
              " Featurelist(Informative Features),\n",
              " Featurelist(Univariate Selections),\n",
              " Featurelist(DR Reduced Features M79),\n",
              " Featurelist(best_model_top_20)]"
            ]
          },
          "metadata": {
            "tags": []
          },
          "execution_count": 53
        }
      ]
    },
    {
      "cell_type": "code",
      "metadata": {
        "id": "-I1M2-IkLCpC"
      },
      "source": [
        "#project.start_autopilot(new_list.id) #This runs full Autopilot again\n",
        "model_job_id = model.train( #This will train an individual model with the new list\n",
        "    sample_pct=64,\n",
        "    featurelist_id=new_list.id,\n",
        "    scoring_type=dr.SCORING_TYPE.cross_validation,\n",
        ")"
      ],
      "execution_count": 54,
      "outputs": []
    },
    {
      "cell_type": "code",
      "metadata": {
        "id": "bXhQFiQUmZFs",
        "colab": {
          "base_uri": "https://localhost:8080/",
          "height": 34
        },
        "outputId": "dcdfef37-8983-486a-baa3-9b3721cfccc7"
      },
      "source": [
        "project.unlock_holdout()"
      ],
      "execution_count": null,
      "outputs": [
        {
          "output_type": "execute_result",
          "data": {
            "text/plain": [
              "Project(lending club example)"
            ]
          },
          "metadata": {
            "tags": []
          },
          "execution_count": 81
        }
      ]
    },
    {
      "cell_type": "code",
      "metadata": {
        "id": "hz4PjKnrmadL",
        "colab": {
          "base_uri": "https://localhost:8080/",
          "height": 1000
        },
        "outputId": "828bf30c-1456-4792-dd4c-19b967275204"
      },
      "source": [
        "build_leaderboard(project)"
      ],
      "execution_count": null,
      "outputs": [
        {
          "output_type": "execute_result",
          "data": {
            "text/html": [
              "<div>\n",
              "<style scoped>\n",
              "    .dataframe tbody tr th:only-of-type {\n",
              "        vertical-align: middle;\n",
              "    }\n",
              "\n",
              "    .dataframe tbody tr th {\n",
              "        vertical-align: top;\n",
              "    }\n",
              "\n",
              "    .dataframe thead th {\n",
              "        text-align: right;\n",
              "    }\n",
              "</style>\n",
              "<table border=\"1\" class=\"dataframe\">\n",
              "  <thead>\n",
              "    <tr style=\"text-align: right;\">\n",
              "      <th></th>\n",
              "      <th>Model</th>\n",
              "      <th>featurelist</th>\n",
              "      <th>sample_pct</th>\n",
              "      <th>validation</th>\n",
              "      <th>crossValidation</th>\n",
              "      <th>holdout</th>\n",
              "    </tr>\n",
              "  </thead>\n",
              "  <tbody>\n",
              "    <tr>\n",
              "      <th>0</th>\n",
              "      <td>Model('eXtreme Gradient Boosted Trees Classifi...</td>\n",
              "      <td>DR Reduced Features M26</td>\n",
              "      <td>80.0</td>\n",
              "      <td>0.36436</td>\n",
              "      <td>0.355948</td>\n",
              "      <td>0.36165</td>\n",
              "    </tr>\n",
              "    <tr>\n",
              "      <th>1</th>\n",
              "      <td>Model('eXtreme Gradient Boosted Trees Classifi...</td>\n",
              "      <td>Informative Features - Leakage Removed</td>\n",
              "      <td>64.0</td>\n",
              "      <td>0.36505</td>\n",
              "      <td>0.357610</td>\n",
              "      <td>0.36174</td>\n",
              "    </tr>\n",
              "    <tr>\n",
              "      <th>2</th>\n",
              "      <td>Model('AVG Blender')</td>\n",
              "      <td>None</td>\n",
              "      <td>64.0</td>\n",
              "      <td>0.36527</td>\n",
              "      <td>0.356718</td>\n",
              "      <td>0.36056</td>\n",
              "    </tr>\n",
              "    <tr>\n",
              "      <th>3</th>\n",
              "      <td>Model('eXtreme Gradient Boosted Trees Classifi...</td>\n",
              "      <td>DR Reduced Features M26</td>\n",
              "      <td>100.0</td>\n",
              "      <td>0.36546</td>\n",
              "      <td>0.355548</td>\n",
              "      <td>0.36181</td>\n",
              "    </tr>\n",
              "    <tr>\n",
              "      <th>4</th>\n",
              "      <td>Model('Light Gradient Boosted Trees Classifier...</td>\n",
              "      <td>Informative Features - Leakage Removed</td>\n",
              "      <td>64.0</td>\n",
              "      <td>0.36573</td>\n",
              "      <td>0.358378</td>\n",
              "      <td>0.36158</td>\n",
              "    </tr>\n",
              "    <tr>\n",
              "      <th>5</th>\n",
              "      <td>Model('Generalized Additive2 Model')</td>\n",
              "      <td>Informative Features - Leakage Removed</td>\n",
              "      <td>64.0</td>\n",
              "      <td>0.36787</td>\n",
              "      <td>0.360250</td>\n",
              "      <td>0.36271</td>\n",
              "    </tr>\n",
              "    <tr>\n",
              "      <th>6</th>\n",
              "      <td>Model('eXtreme Gradient Boosted Trees Classifi...</td>\n",
              "      <td>DR Reduced Features M26</td>\n",
              "      <td>64.0</td>\n",
              "      <td>0.36808</td>\n",
              "      <td>0.357460</td>\n",
              "      <td>0.36190</td>\n",
              "    </tr>\n",
              "    <tr>\n",
              "      <th>7</th>\n",
              "      <td>Model('Light Gradient Boosted Trees Classifier...</td>\n",
              "      <td>Informative Features - Leakage Removed</td>\n",
              "      <td>32.0</td>\n",
              "      <td>0.36965</td>\n",
              "      <td>NaN</td>\n",
              "      <td>0.36951</td>\n",
              "    </tr>\n",
              "    <tr>\n",
              "      <th>8</th>\n",
              "      <td>Model('eXtreme Gradient Boosted Trees Classifi...</td>\n",
              "      <td>DR Reduced Features M26</td>\n",
              "      <td>32.0</td>\n",
              "      <td>0.37192</td>\n",
              "      <td>NaN</td>\n",
              "      <td>0.37276</td>\n",
              "    </tr>\n",
              "    <tr>\n",
              "      <th>9</th>\n",
              "      <td>Model('Gradient Boosted Trees Classifier')</td>\n",
              "      <td>Informative Features - Leakage Removed</td>\n",
              "      <td>64.0</td>\n",
              "      <td>0.37208</td>\n",
              "      <td>0.362268</td>\n",
              "      <td>0.36602</td>\n",
              "    </tr>\n",
              "    <tr>\n",
              "      <th>10</th>\n",
              "      <td>Model('eXtreme Gradient Boosted Trees Classifi...</td>\n",
              "      <td>Informative Features - Leakage Removed</td>\n",
              "      <td>32.0</td>\n",
              "      <td>0.37230</td>\n",
              "      <td>NaN</td>\n",
              "      <td>0.37095</td>\n",
              "    </tr>\n",
              "    <tr>\n",
              "      <th>11</th>\n",
              "      <td>Model('Gradient Boosted Trees Classifier')</td>\n",
              "      <td>Informative Features - Leakage Removed</td>\n",
              "      <td>32.0</td>\n",
              "      <td>0.37295</td>\n",
              "      <td>NaN</td>\n",
              "      <td>0.36941</td>\n",
              "    </tr>\n",
              "    <tr>\n",
              "      <th>12</th>\n",
              "      <td>Model('Generalized Additive2 Model')</td>\n",
              "      <td>Informative Features - Leakage Removed</td>\n",
              "      <td>32.0</td>\n",
              "      <td>0.37316</td>\n",
              "      <td>NaN</td>\n",
              "      <td>0.36865</td>\n",
              "    </tr>\n",
              "    <tr>\n",
              "      <th>13</th>\n",
              "      <td>Model('Light Gradient Boosting on ElasticNet P...</td>\n",
              "      <td>Informative Features - Leakage Removed</td>\n",
              "      <td>32.0</td>\n",
              "      <td>0.37640</td>\n",
              "      <td>NaN</td>\n",
              "      <td>0.36836</td>\n",
              "    </tr>\n",
              "    <tr>\n",
              "      <th>14</th>\n",
              "      <td>Model('RandomForest Classifier (Gini)')</td>\n",
              "      <td>Informative Features - Leakage Removed</td>\n",
              "      <td>32.0</td>\n",
              "      <td>0.37641</td>\n",
              "      <td>NaN</td>\n",
              "      <td>0.37580</td>\n",
              "    </tr>\n",
              "    <tr>\n",
              "      <th>15</th>\n",
              "      <td>Model('Elastic-Net Classifier (L2 / Binomial D...</td>\n",
              "      <td>Informative Features - Leakage Removed</td>\n",
              "      <td>32.0</td>\n",
              "      <td>0.37726</td>\n",
              "      <td>NaN</td>\n",
              "      <td>0.36976</td>\n",
              "    </tr>\n",
              "    <tr>\n",
              "      <th>16</th>\n",
              "      <td>Model('Elastic-Net Classifier (mixing alpha=0....</td>\n",
              "      <td>Informative Features - Leakage Removed</td>\n",
              "      <td>32.0</td>\n",
              "      <td>0.37944</td>\n",
              "      <td>NaN</td>\n",
              "      <td>0.36954</td>\n",
              "    </tr>\n",
              "    <tr>\n",
              "      <th>17</th>\n",
              "      <td>Model('Auto-Tuned Word N-Gram Text Modeler usi...</td>\n",
              "      <td>Informative Features - Leakage Removed</td>\n",
              "      <td>64.0</td>\n",
              "      <td>0.38026</td>\n",
              "      <td>NaN</td>\n",
              "      <td>0.38469</td>\n",
              "    </tr>\n",
              "    <tr>\n",
              "      <th>18</th>\n",
              "      <td>Model('Auto-Tuned Word N-Gram Text Modeler usi...</td>\n",
              "      <td>DR Reduced Features M26</td>\n",
              "      <td>80.0</td>\n",
              "      <td>0.38136</td>\n",
              "      <td>0.381446</td>\n",
              "      <td>0.38412</td>\n",
              "    </tr>\n",
              "    <tr>\n",
              "      <th>19</th>\n",
              "      <td>Model('Auto-Tuned Word N-Gram Text Modeler usi...</td>\n",
              "      <td>DR Reduced Features M26</td>\n",
              "      <td>80.0</td>\n",
              "      <td>0.38330</td>\n",
              "      <td>0.381694</td>\n",
              "      <td>0.38465</td>\n",
              "    </tr>\n",
              "    <tr>\n",
              "      <th>20</th>\n",
              "      <td>Model('Auto-Tuned Word N-Gram Text Modeler usi...</td>\n",
              "      <td>DR Reduced Features M26</td>\n",
              "      <td>100.0</td>\n",
              "      <td>0.38358</td>\n",
              "      <td>0.383112</td>\n",
              "      <td>0.38482</td>\n",
              "    </tr>\n",
              "    <tr>\n",
              "      <th>21</th>\n",
              "      <td>Model('Auto-Tuned Word N-Gram Text Modeler usi...</td>\n",
              "      <td>DR Reduced Features M26</td>\n",
              "      <td>32.0</td>\n",
              "      <td>0.38401</td>\n",
              "      <td>NaN</td>\n",
              "      <td>0.38480</td>\n",
              "    </tr>\n",
              "    <tr>\n",
              "      <th>22</th>\n",
              "      <td>Model('Auto-Tuned Word N-Gram Text Modeler usi...</td>\n",
              "      <td>Informative Features - Leakage Removed</td>\n",
              "      <td>32.0</td>\n",
              "      <td>0.38401</td>\n",
              "      <td>NaN</td>\n",
              "      <td>0.38480</td>\n",
              "    </tr>\n",
              "    <tr>\n",
              "      <th>23</th>\n",
              "      <td>Model('Auto-Tuned Word N-Gram Text Modeler usi...</td>\n",
              "      <td>DR Reduced Features M26</td>\n",
              "      <td>16.0</td>\n",
              "      <td>0.38428</td>\n",
              "      <td>NaN</td>\n",
              "      <td>0.38558</td>\n",
              "    </tr>\n",
              "    <tr>\n",
              "      <th>24</th>\n",
              "      <td>Model('Auto-Tuned Word N-Gram Text Modeler usi...</td>\n",
              "      <td>Informative Features - Leakage Removed</td>\n",
              "      <td>64.0</td>\n",
              "      <td>0.38435</td>\n",
              "      <td>NaN</td>\n",
              "      <td>0.38448</td>\n",
              "    </tr>\n",
              "    <tr>\n",
              "      <th>25</th>\n",
              "      <td>Model('Auto-Tuned Word N-Gram Text Modeler usi...</td>\n",
              "      <td>DR Reduced Features M26</td>\n",
              "      <td>100.0</td>\n",
              "      <td>0.38441</td>\n",
              "      <td>0.382988</td>\n",
              "      <td>0.38492</td>\n",
              "    </tr>\n",
              "    <tr>\n",
              "      <th>26</th>\n",
              "      <td>Model('Auto-Tuned Word N-Gram Text Modeler usi...</td>\n",
              "      <td>DR Reduced Features M26</td>\n",
              "      <td>80.0</td>\n",
              "      <td>0.38462</td>\n",
              "      <td>0.384506</td>\n",
              "      <td>0.38442</td>\n",
              "    </tr>\n",
              "    <tr>\n",
              "      <th>27</th>\n",
              "      <td>Model('Auto-Tuned Word N-Gram Text Modeler usi...</td>\n",
              "      <td>Informative Features - Leakage Removed</td>\n",
              "      <td>32.0</td>\n",
              "      <td>0.38481</td>\n",
              "      <td>NaN</td>\n",
              "      <td>0.38578</td>\n",
              "    </tr>\n",
              "    <tr>\n",
              "      <th>28</th>\n",
              "      <td>Model('Auto-Tuned Word N-Gram Text Modeler usi...</td>\n",
              "      <td>DR Reduced Features M26</td>\n",
              "      <td>32.0</td>\n",
              "      <td>0.38492</td>\n",
              "      <td>NaN</td>\n",
              "      <td>0.38604</td>\n",
              "    </tr>\n",
              "    <tr>\n",
              "      <th>29</th>\n",
              "      <td>Model('Auto-Tuned Word N-Gram Text Modeler usi...</td>\n",
              "      <td>DR Reduced Features M26</td>\n",
              "      <td>100.0</td>\n",
              "      <td>0.38497</td>\n",
              "      <td>0.384524</td>\n",
              "      <td>0.38440</td>\n",
              "    </tr>\n",
              "    <tr>\n",
              "      <th>30</th>\n",
              "      <td>Model('Auto-Tuned Word N-Gram Text Modeler usi...</td>\n",
              "      <td>DR Reduced Features M26</td>\n",
              "      <td>16.0</td>\n",
              "      <td>0.38519</td>\n",
              "      <td>NaN</td>\n",
              "      <td>0.38683</td>\n",
              "    </tr>\n",
              "    <tr>\n",
              "      <th>31</th>\n",
              "      <td>Model('Auto-Tuned Word N-Gram Text Modeler usi...</td>\n",
              "      <td>Informative Features - Leakage Removed</td>\n",
              "      <td>64.0</td>\n",
              "      <td>0.38532</td>\n",
              "      <td>NaN</td>\n",
              "      <td>0.38655</td>\n",
              "    </tr>\n",
              "    <tr>\n",
              "      <th>32</th>\n",
              "      <td>Model('eXtreme Gradient Boosted Trees Classifi...</td>\n",
              "      <td>DR Reduced Features M26</td>\n",
              "      <td>16.0</td>\n",
              "      <td>0.38550</td>\n",
              "      <td>NaN</td>\n",
              "      <td>0.38527</td>\n",
              "    </tr>\n",
              "    <tr>\n",
              "      <th>33</th>\n",
              "      <td>Model('Auto-Tuned Word N-Gram Text Modeler usi...</td>\n",
              "      <td>Informative Features - Leakage Removed</td>\n",
              "      <td>32.0</td>\n",
              "      <td>0.38606</td>\n",
              "      <td>NaN</td>\n",
              "      <td>0.38551</td>\n",
              "    </tr>\n",
              "    <tr>\n",
              "      <th>34</th>\n",
              "      <td>Model('Auto-Tuned Word N-Gram Text Modeler usi...</td>\n",
              "      <td>DR Reduced Features M26</td>\n",
              "      <td>32.0</td>\n",
              "      <td>0.38614</td>\n",
              "      <td>NaN</td>\n",
              "      <td>0.38559</td>\n",
              "    </tr>\n",
              "    <tr>\n",
              "      <th>35</th>\n",
              "      <td>Model('RuleFit Classifier')</td>\n",
              "      <td>Informative Features - Leakage Removed</td>\n",
              "      <td>32.0</td>\n",
              "      <td>0.38640</td>\n",
              "      <td>NaN</td>\n",
              "      <td>0.38235</td>\n",
              "    </tr>\n",
              "    <tr>\n",
              "      <th>36</th>\n",
              "      <td>Model('Auto-Tuned Word N-Gram Text Modeler usi...</td>\n",
              "      <td>Informative Features - Leakage Removed</td>\n",
              "      <td>64.0</td>\n",
              "      <td>0.38642</td>\n",
              "      <td>NaN</td>\n",
              "      <td>0.38546</td>\n",
              "    </tr>\n",
              "    <tr>\n",
              "      <th>37</th>\n",
              "      <td>Model('Auto-Tuned Word N-Gram Text Modeler usi...</td>\n",
              "      <td>Informative Features - Leakage Removed</td>\n",
              "      <td>32.0</td>\n",
              "      <td>0.38662</td>\n",
              "      <td>NaN</td>\n",
              "      <td>0.38564</td>\n",
              "    </tr>\n",
              "    <tr>\n",
              "      <th>38</th>\n",
              "      <td>Model('Auto-Tuned Word N-Gram Text Modeler usi...</td>\n",
              "      <td>DR Reduced Features M26</td>\n",
              "      <td>16.0</td>\n",
              "      <td>0.38711</td>\n",
              "      <td>NaN</td>\n",
              "      <td>0.38679</td>\n",
              "    </tr>\n",
              "    <tr>\n",
              "      <th>39</th>\n",
              "      <td>Model('Keras Slim Residual Neural Network Clas...</td>\n",
              "      <td>Informative Features - Leakage Removed</td>\n",
              "      <td>32.0</td>\n",
              "      <td>0.42699</td>\n",
              "      <td>NaN</td>\n",
              "      <td>0.42057</td>\n",
              "    </tr>\n",
              "  </tbody>\n",
              "</table>\n",
              "</div>"
            ],
            "text/plain": [
              "                                                Model  ...  holdout\n",
              "0   Model('eXtreme Gradient Boosted Trees Classifi...  ...  0.36165\n",
              "1   Model('eXtreme Gradient Boosted Trees Classifi...  ...  0.36174\n",
              "2                                Model('AVG Blender')  ...  0.36056\n",
              "3   Model('eXtreme Gradient Boosted Trees Classifi...  ...  0.36181\n",
              "4   Model('Light Gradient Boosted Trees Classifier...  ...  0.36158\n",
              "5                Model('Generalized Additive2 Model')  ...  0.36271\n",
              "6   Model('eXtreme Gradient Boosted Trees Classifi...  ...  0.36190\n",
              "7   Model('Light Gradient Boosted Trees Classifier...  ...  0.36951\n",
              "8   Model('eXtreme Gradient Boosted Trees Classifi...  ...  0.37276\n",
              "9          Model('Gradient Boosted Trees Classifier')  ...  0.36602\n",
              "10  Model('eXtreme Gradient Boosted Trees Classifi...  ...  0.37095\n",
              "11         Model('Gradient Boosted Trees Classifier')  ...  0.36941\n",
              "12               Model('Generalized Additive2 Model')  ...  0.36865\n",
              "13  Model('Light Gradient Boosting on ElasticNet P...  ...  0.36836\n",
              "14            Model('RandomForest Classifier (Gini)')  ...  0.37580\n",
              "15  Model('Elastic-Net Classifier (L2 / Binomial D...  ...  0.36976\n",
              "16  Model('Elastic-Net Classifier (mixing alpha=0....  ...  0.36954\n",
              "17  Model('Auto-Tuned Word N-Gram Text Modeler usi...  ...  0.38469\n",
              "18  Model('Auto-Tuned Word N-Gram Text Modeler usi...  ...  0.38412\n",
              "19  Model('Auto-Tuned Word N-Gram Text Modeler usi...  ...  0.38465\n",
              "20  Model('Auto-Tuned Word N-Gram Text Modeler usi...  ...  0.38482\n",
              "21  Model('Auto-Tuned Word N-Gram Text Modeler usi...  ...  0.38480\n",
              "22  Model('Auto-Tuned Word N-Gram Text Modeler usi...  ...  0.38480\n",
              "23  Model('Auto-Tuned Word N-Gram Text Modeler usi...  ...  0.38558\n",
              "24  Model('Auto-Tuned Word N-Gram Text Modeler usi...  ...  0.38448\n",
              "25  Model('Auto-Tuned Word N-Gram Text Modeler usi...  ...  0.38492\n",
              "26  Model('Auto-Tuned Word N-Gram Text Modeler usi...  ...  0.38442\n",
              "27  Model('Auto-Tuned Word N-Gram Text Modeler usi...  ...  0.38578\n",
              "28  Model('Auto-Tuned Word N-Gram Text Modeler usi...  ...  0.38604\n",
              "29  Model('Auto-Tuned Word N-Gram Text Modeler usi...  ...  0.38440\n",
              "30  Model('Auto-Tuned Word N-Gram Text Modeler usi...  ...  0.38683\n",
              "31  Model('Auto-Tuned Word N-Gram Text Modeler usi...  ...  0.38655\n",
              "32  Model('eXtreme Gradient Boosted Trees Classifi...  ...  0.38527\n",
              "33  Model('Auto-Tuned Word N-Gram Text Modeler usi...  ...  0.38551\n",
              "34  Model('Auto-Tuned Word N-Gram Text Modeler usi...  ...  0.38559\n",
              "35                        Model('RuleFit Classifier')  ...  0.38235\n",
              "36  Model('Auto-Tuned Word N-Gram Text Modeler usi...  ...  0.38546\n",
              "37  Model('Auto-Tuned Word N-Gram Text Modeler usi...  ...  0.38564\n",
              "38  Model('Auto-Tuned Word N-Gram Text Modeler usi...  ...  0.38679\n",
              "39  Model('Keras Slim Residual Neural Network Clas...  ...  0.42057\n",
              "\n",
              "[40 rows x 6 columns]"
            ]
          },
          "metadata": {
            "tags": []
          },
          "execution_count": 82
        }
      ]
    },
    {
      "cell_type": "markdown",
      "metadata": {
        "id": "8j82dlKZMgwO"
      },
      "source": [
        "### Hyperparameter Tuning\n"
      ]
    },
    {
      "cell_type": "markdown",
      "metadata": {
        "id": "aBLAI5JfNORK"
      },
      "source": [
        "Hyperparameter tuning is a common use case for the API. To start, we'll create a new tuning session and understand which tasks are available for tuning within this Blueprint. "
      ]
    },
    {
      "cell_type": "code",
      "metadata": {
        "colab": {
          "base_uri": "https://localhost:8080/"
        },
        "id": "8dKVGGirMoBa",
        "outputId": "2e00df76-5df7-4754-b104-4d47fc913303"
      },
      "source": [
        "tune = model.start_advanced_tuning_session()\n",
        "tasks = tune.get_task_names()\n",
        "tasks\n"
      ],
      "execution_count": 95,
      "outputs": [
        {
          "output_type": "execute_result",
          "data": {
            "text/plain": [
              "['Gradient Boosted Trees Classifier with Early Stopping',\n",
              " 'Missing Values Imputed',\n",
              " 'Ordinal encoding of categorical variables']"
            ]
          },
          "metadata": {
            "tags": []
          },
          "execution_count": 95
        }
      ]
    },
    {
      "cell_type": "markdown",
      "metadata": {
        "id": "COJYZUf3Nv-z"
      },
      "source": [
        "Next, we can understand which components of each step are available for tuning. "
      ]
    },
    {
      "cell_type": "code",
      "metadata": {
        "colab": {
          "base_uri": "https://localhost:8080/"
        },
        "id": "LsMAPzLENrZy",
        "outputId": "d1e8f9de-3de4-4053-bf72-6ff1898a6446"
      },
      "source": [
        "for task in tasks:\n",
        "    pp.pprint(task)\n",
        "    pp.pprint(tune.get_parameter_names(task))\n",
        "    print()"
      ],
      "execution_count": 98,
      "outputs": [
        {
          "output_type": "stream",
          "text": [
            "'Gradient Boosted Trees Classifier with Early Stopping'\n",
            "['learning_rate',\n",
            " 'max_depth',\n",
            " 'max_features',\n",
            " 'max_leaf_nodes',\n",
            " 'min_samples_leaf',\n",
            " 'min_samples_split',\n",
            " 'n_estimators',\n",
            " 'random_state',\n",
            " 'refit_n',\n",
            " 'subsample']\n",
            "\n",
            "'Missing Values Imputed'\n",
            "['arbimp', 'min_count_na']\n",
            "\n",
            "'Ordinal encoding of categorical variables'\n",
            "['card_max', 'method', 'min_support']\n",
            "\n"
          ],
          "name": "stdout"
        }
      ]
    },
    {
      "cell_type": "markdown",
      "metadata": {
        "id": "GVVtbjetOhK3"
      },
      "source": [
        "DataRobot also provides some helpful information about the constraints on each parameter - what values can be provided for that parameter. "
      ]
    },
    {
      "cell_type": "code",
      "metadata": {
        "colab": {
          "base_uri": "https://localhost:8080/"
        },
        "id": "_HdMR69FO4N3",
        "outputId": "a9cb7670-fe3a-4de8-92cf-50eeee6d357e"
      },
      "source": [
        "param_details = model.get_advanced_tuning_parameters()[\"tuning_parameters\"]\n",
        "param_list = [x[\"parameter_name\"] for x in param_details]\n",
        "pp.pprint (param_details[param_list.index(\"learning_rate\")])\n"
      ],
      "execution_count": 103,
      "outputs": [
        {
          "output_type": "stream",
          "text": [
            "{'constraints': {'float': {'max': 1.0,\n",
            "                           'min': 0.0005,\n",
            "                           'supports_grid_search': True}},\n",
            " 'current_value': 0.05,\n",
            " 'default_value': 0.05,\n",
            " 'parameter_id': 'eyJhcmciOiJsZWFybmluZ19yYXRlIiwidmlkIjoiMTIifQ',\n",
            " 'parameter_name': 'learning_rate',\n",
            " 'task_name': 'Gradient Boosted Trees Classifier with Early Stopping'}\n"
          ],
          "name": "stdout"
        }
      ]
    },
    {
      "cell_type": "code",
      "metadata": {
        "id": "P2zYVTcTOdna"
      },
      "source": [
        "tune.set_parameter(parameter_name = \"learning_rate\",\n",
        "                     value = 0.01)\n",
        "job = tune.run()"
      ],
      "execution_count": 104,
      "outputs": []
    },
    {
      "cell_type": "markdown",
      "metadata": {
        "id": "dZ4e3hsYmc2g"
      },
      "source": [
        "## Project Sharing\n",
        "\n",
        "Let's get our first project and share it"
      ]
    },
    {
      "cell_type": "code",
      "metadata": {
        "id": "6Z5mEhR3mciu",
        "colab": {
          "base_uri": "https://localhost:8080/"
        },
        "outputId": "7cd78ef0-2d26-4c8a-8a4d-682df48079de"
      },
      "source": [
        "project.get_status()"
      ],
      "execution_count": 61,
      "outputs": [
        {
          "output_type": "execute_result",
          "data": {
            "text/plain": [
              "{'autopilot_done': True,\n",
              " 'stage': 'modeling',\n",
              " 'stage_description': 'Ready for modeling'}"
            ]
          },
          "metadata": {
            "tags": []
          },
          "execution_count": 61
        }
      ]
    },
    {
      "cell_type": "code",
      "metadata": {
        "id": "G-qVOUnbmhdE"
      },
      "source": [
        "access_list = []\n",
        "access_list.append(\n",
        "    dr.SharingAccess(username = \"timothy.whittaker@datarobot.com\", role = dr.enums.SHARING_ROLE.READ_ONLY)\n",
        ")"
      ],
      "execution_count": 62,
      "outputs": []
    },
    {
      "cell_type": "code",
      "metadata": {
        "id": "Mwjow-IZmjxX",
        "colab": {
          "base_uri": "https://localhost:8080/"
        },
        "outputId": "87f439ec-e7bd-4bd2-c1b4-cd338bb987b9"
      },
      "source": [
        "for user in project.get_access_list():\n",
        "    print(\"user: {} \\nrole:{}\\n\".format(user.username, user.role))"
      ],
      "execution_count": 63,
      "outputs": [
        {
          "output_type": "stream",
          "text": [
            "user: cory.kind+demo@datarobot.com \n",
            "role:OWNER\n",
            "\n"
          ],
          "name": "stdout"
        }
      ]
    },
    {
      "cell_type": "markdown",
      "metadata": {
        "id": "g_rpQJiNmnHF"
      },
      "source": [
        "#Deploying Your Model\n"
      ]
    },
    {
      "cell_type": "markdown",
      "metadata": {
        "id": "E2pNzjWnm2S5"
      },
      "source": [
        "## Where to find Project and Model ID in the UI\n",
        "\n",
        "In general, you can find ProjectID and ModelID in the UI. Just click on the desired model on the Leaderboard and pull the appropriate IDs from the URL.\n",
        "\n",
        "For example:\n",
        "\n",
        "```https://app2.datarobot.com/projects/<project_id>/models/<model_id>/blueprint```"
      ]
    },
    {
      "cell_type": "markdown",
      "metadata": {
        "id": "coI3bomTnQua"
      },
      "source": [
        "## DataRobot Model Recommendations"
      ]
    },
    {
      "cell_type": "code",
      "metadata": {
        "id": "Cg3LgEgmnQG2",
        "colab": {
          "base_uri": "https://localhost:8080/"
        },
        "outputId": "ed9350c6-c7d8-49b9-eb4b-6423a91d2831"
      },
      "source": [
        "recommendations = dr.ModelRecommendation.get_all(project.id)\n",
        "recommendations"
      ],
      "execution_count": 108,
      "outputs": [
        {
          "output_type": "execute_result",
          "data": {
            "text/plain": [
              "[ModelRecommendation(5fc875dad45c89e413556c1b, 5fc87bdc9971beb20c4694e2, Recommended for Deployment),\n",
              " ModelRecommendation(5fc875dad45c89e413556c1b, 5fc87bdc9971beb20c4694e2, Prepared for Deployment)]"
            ]
          },
          "metadata": {
            "tags": []
          },
          "execution_count": 108
        }
      ]
    },
    {
      "cell_type": "markdown",
      "metadata": {
        "id": "pzely3AXnlcG"
      },
      "source": [
        "## Deploying a Model"
      ]
    },
    {
      "cell_type": "markdown",
      "metadata": {
        "id": "dDl8iFvMRvRJ"
      },
      "source": [
        "Once we're confident that we can push our model to Deployment, we can do this via the API as well."
      ]
    },
    {
      "cell_type": "code",
      "metadata": {
        "id": "vXju8BCdneya"
      },
      "source": [
        "# We have to initialize feature impact before pred explanations\n",
        "model.get_or_request_feature_impact()\n",
        "## We also have to initial prediction explanations for use with the deployment\n",
        "pred_exp = dr.PredictionExplanationsInitialization.create(project.id, model.id)"
      ],
      "execution_count": 109,
      "outputs": []
    },
    {
      "cell_type": "markdown",
      "metadata": {
        "id": "cwymjsFlR_OQ"
      },
      "source": [
        "We want to identify our prediction server, so that we know where the model will be deployed. "
      ]
    },
    {
      "cell_type": "code",
      "metadata": {
        "id": "DjGFVrWmrqm9"
      },
      "source": [
        "prediction_server_id = dr.PredictionServer.list()[0].id"
      ],
      "execution_count": 64,
      "outputs": []
    },
    {
      "cell_type": "markdown",
      "metadata": {
        "id": "6Ax3gt-7SGcO"
      },
      "source": [
        "This actually deploys the model to the prediction server."
      ]
    },
    {
      "cell_type": "code",
      "metadata": {
        "id": "06iL-sJHrc0N"
      },
      "source": [
        "deployment_name = \"loan default model deployment\"\n",
        "deployment = dr.Deployment.create_from_learning_model(model.id, deployment_name, default_prediction_server_id = prediction_server_id)"
      ],
      "execution_count": 65,
      "outputs": []
    },
    {
      "cell_type": "markdown",
      "metadata": {
        "id": "aGgloE5DSZW9"
      },
      "source": [
        "We can also set up our deployment the way we want to, with data drift tracking enabled."
      ]
    },
    {
      "cell_type": "code",
      "metadata": {
        "id": "MGdw0_L6rcin"
      },
      "source": [
        "## enable data drift tracking\n",
        "deployment.update_drift_tracking_settings(feature_drift_enabled=True, max_wait=600)"
      ],
      "execution_count": 66,
      "outputs": []
    },
    {
      "cell_type": "code",
      "metadata": {
        "id": "PDIebMubr-0t"
      },
      "source": [
        "dr_key = '544ec55f-61bf-f6ee-0caf-15c7f919a45d'\n",
        "deployment_id = deployment.id\n",
        "url = 'https://mlops.dynamic.orm.datarobot.com/predApi/v1.0/deployments/{deployment_id}/predictions'    # noqa\n",
        "\n",
        "headers = {\n",
        "    'Content-Type': 'text/plain; charset=UTF-8',\n",
        "    'Authorization': 'Bearer {}'.format(token),\n",
        "    'DataRobot-Key': dr_key\n",
        "}\n",
        "params = None\n",
        "predictions_response = requests.post(\n",
        "    url.format(deployment_id = deployment.id),\n",
        "    data=df.head(100).to_csv(),\n",
        "    headers=headers,\n",
        "    params=params,\n",
        ")"
      ],
      "execution_count": 67,
      "outputs": []
    },
    {
      "cell_type": "code",
      "metadata": {
        "id": "DlybbT5ArRR9",
        "colab": {
          "base_uri": "https://localhost:8080/",
          "height": 374
        },
        "outputId": "edb6b25e-b2f5-4610-f77a-83432b10d3bf"
      },
      "source": [
        "predictions_response.json()[\"data\"][0]"
      ],
      "execution_count": null,
      "outputs": [
        {
          "output_type": "execute_result",
          "data": {
            "text/plain": [
              "{'passthroughValues': {'is_bad': '0'},\n",
              " 'prediction': 0.0,\n",
              " 'predictionExplanations': [{'feature': 'int_rate',\n",
              "   'featureValue': 7.29,\n",
              "   'label': 1.0,\n",
              "   'qualitativeStrength': '---',\n",
              "   'strength': -0.6970187487},\n",
              "  {'feature': 'term',\n",
              "   'featureValue': ' 60 months',\n",
              "   'label': 1.0,\n",
              "   'qualitativeStrength': '++',\n",
              "   'strength': 0.3750369243},\n",
              "  {'feature': 'revol_util',\n",
              "   'featureValue': 12.1,\n",
              "   'label': 1.0,\n",
              "   'qualitativeStrength': '--',\n",
              "   'strength': -0.1770664908}],\n",
              " 'predictionThreshold': 0.5,\n",
              " 'predictionValues': [{'label': 1.0, 'value': 0.0558274388},\n",
              "  {'label': 0.0, 'value': 0.9441725612}],\n",
              " 'rowId': 0}"
            ]
          },
          "metadata": {
            "tags": []
          },
          "execution_count": 73
        }
      ]
    },
    {
      "cell_type": "code",
      "metadata": {
        "id": "RYsehx10X9XN",
        "colab": {
          "base_uri": "https://localhost:8080/"
        },
        "outputId": "1969e97f-62bc-495b-e921-d87156a70286"
      },
      "source": [
        "deployment.get_service_stats()"
      ],
      "execution_count": 118,
      "outputs": [
        {
          "output_type": "execute_result",
          "data": {
            "text/plain": [
              "ServiceStats(5fc878c18f4305202083d2f8 | 2020-11-26 07:00:00+00:00 - 2020-12-03 07:00:00+00:00)"
            ]
          },
          "metadata": {
            "tags": []
          },
          "execution_count": 118
        }
      ]
    }
  ]
}