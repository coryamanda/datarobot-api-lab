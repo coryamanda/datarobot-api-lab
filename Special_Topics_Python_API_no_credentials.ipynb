{
  "nbformat": 4,
  "nbformat_minor": 0,
  "metadata": {
    "colab": {
      "name": "Special Topics - Python API - no credentials.ipynb",
      "provenance": [],
      "collapsed_sections": [],
      "toc_visible": true,
      "authorship_tag": "ABX9TyNXyfATapp56zqlc1elWgz2",
      "include_colab_link": true
    },
    "kernelspec": {
      "name": "python3",
      "display_name": "Python 3"
    }
  },
  "cells": [
    {
      "cell_type": "markdown",
      "metadata": {
        "id": "view-in-github",
        "colab_type": "text"
      },
      "source": [
        "<a href=\"https://colab.research.google.com/github/coryamanda/datarobot-api-lab/blob/main/Special_Topics_Python_API_no_credentials.ipynb\" target=\"_parent\"><img src=\"https://colab.research.google.com/assets/colab-badge.svg\" alt=\"Open In Colab\"/></a>"
      ]
    },
    {
      "cell_type": "markdown",
      "metadata": {
        "id": "sXbTovqJ7YJP"
      },
      "source": [
        "Agenda\n",
        "- How to connect to AI Catalog\n",
        "- How to run the Manual mode\n",
        "- How to share projects for collaboration\n",
        "- Advanced Tuning API – Hyperparameter Tuning\n",
        "- How to deploy a model using API\n",
        "\n",
        "If you want the more comprehensive overview from basics, go to the tutorial here: https://github.com/coryamanda/datarobot-api-lab"
      ]
    },
    {
      "cell_type": "markdown",
      "metadata": {
        "id": "ZTAB0MpP7vQ3"
      },
      "source": [
        "### Prerequisites"
      ]
    },
    {
      "cell_type": "markdown",
      "metadata": {
        "id": "Ky_TJ2zG84Rl"
      },
      "source": [
        "Before we do anything else, we need to connect to DataRobot and set up our user access credentials."
      ]
    },
    {
      "cell_type": "code",
      "metadata": {
        "id": "H7zRhYSD8yfQ"
      },
      "source": [
        "!pip install datarobot==2.21.5"
      ],
      "execution_count": null,
      "outputs": []
    },
    {
      "cell_type": "code",
      "metadata": {
        "id": "0S8rM7Mj7eE6"
      },
      "source": [
        "import pandas as pd\n",
        "import numpy as np\n",
        "import seaborn as sns\n",
        "import yaml\n",
        "import datarobot as dr\n",
        "from google.colab import drive\n",
        "import requests\n",
        "import pprint as pp\n",
        "from datarobot.models.modeljob import wait_for_async_model_creation\n",
        "from datarobot.enums import AVAILABLE_STATEMENT_TYPES\n",
        "from io import StringIO\n",
        "import requests"
      ],
      "execution_count": null,
      "outputs": []
    },
    {
      "cell_type": "code",
      "metadata": {
        "id": "AOePBZil8SRV"
      },
      "source": [
        "token = \"\"\n",
        "endpoint = \"https://app2.datarobot.com/api/v2\"\n",
        "client = dr.Client(token, endpoint='https://app.datarobot.com/api/v2') #replace if not on Managed Cloud"
      ],
      "execution_count": null,
      "outputs": []
    },
    {
      "cell_type": "markdown",
      "metadata": {
        "id": "CyZaCHzZ8DlA"
      },
      "source": [
        "# Connect to the AI Catalog"
      ]
    },
    {
      "cell_type": "markdown",
      "metadata": {
        "id": "Y2WDdDJt9hgI"
      },
      "source": [
        "References: This section borrows heavily from the DataRobot GitHub notebook here: https://github.com/datarobot-community/tutorials-for-data-scientists/blob/master/integrations/Database%20Connections%20and%20Writebacks/databases_and_deployment.ipynb"
      ]
    },
    {
      "cell_type": "markdown",
      "metadata": {
        "id": "rYI-Nh119qPL"
      },
      "source": [
        "The steps describing how to set up your database connections use the following terminology:\n",
        "\n",
        "- **DataStore**: A configured connection to a database— it has a name, a specified driver, and a JDBC URL. You can register data stores with DataRobot for ease of re-use. A data store has one connector but can have many data sources.\n",
        "- **DataSource**: A configured connection to the backing data store (the location of data within a given endpoint). A data source specifies, via SQL query or selected table and schema data, which data to extract from the data store to use for modeling or predictions. A data source has one data store and one connector but can have many datasets.\n",
        "- **DataDriver**: The software that allows the DataRobot application to interact with a database; each data store is associated with one driver (created by the admin). The driver configuration saves the storage location in DataRobot of the JAR file and any additional dependency files associated with the driver.\n",
        "- **Dataset**: Data, a file or the content of a data source, at a particular point in time. A data source can produce multiple datasets; a dataset has exactly one data source. When a DataSource, file, url, or local dataframe is instantiated as a Dataset, it shows up in the AI Catalog.\n"
      ]
    },
    {
      "cell_type": "code",
      "metadata": {
        "id": "KPj5M2W4-YC9"
      },
      "source": [
        "#Database Credentials to connect to\n",
        "USERNAME = ''\n",
        "PASSWORD = ''\n",
        "JDBC_URL = ''"
      ],
      "execution_count": null,
      "outputs": []
    },
    {
      "cell_type": "markdown",
      "metadata": {
        "id": "IKkEVIxt-8si"
      },
      "source": [
        "Find the full list of drivers I have access to. For on-prem, these are configured by the Admin\n"
      ]
    },
    {
      "cell_type": "code",
      "metadata": {
        "id": "Qx4ljir8-x2M"
      },
      "source": [
        "drivers = dr.DataDriver.list()\n",
        "drivers"
      ],
      "execution_count": null,
      "outputs": []
    },
    {
      "cell_type": "code",
      "metadata": {
        "id": "ccg4YSK7_H2t"
      },
      "source": [
        "redshift_driver = [d for d in dr.DataDriver.list() if d.canonical_name == 'Redshift (1.2.12)'][0]\n",
        "redshift_datastore = dr.DataStore.create(data_store_type='jdbc',\n",
        "                                             canonical_name='DataRobot API Training Redshift2',\n",
        "                                             driver_id=redshift_driver.id,\n",
        "                                             jdbc_url=JDBC_URL)"
      ],
      "execution_count": null,
      "outputs": []
    },
    {
      "cell_type": "code",
      "metadata": {
        "id": "XuiXkECGBtQr"
      },
      "source": [
        "redshift_datastore = [x for x in dr.DataStore.list() if x.canonical_name == 'DataRobot API Training Redshift'][0]\n",
        "redshift_datastore.tables(username=USERNAME, password=PASSWORD)"
      ],
      "execution_count": null,
      "outputs": []
    },
    {
      "cell_type": "markdown",
      "metadata": {
        "id": "a1tWfUe3DMYn"
      },
      "source": [
        "Now we have a Data Connection set up, but we haven't set up a Data Source. To do that, we specify a query. "
      ]
    },
    {
      "cell_type": "code",
      "metadata": {
        "id": "DzDSfKIjDLk7"
      },
      "source": [
        "params = dr.DataSourceParameters(data_store_id=redshift_datastore.id,\n",
        "                                 query='SELECT * FROM lending_club_profile;')\n",
        "data_source = dr.DataSource.create(data_source_type='jdbc',\n",
        "                                   canonical_name='dr_api_training_lc2',\n",
        "                                   params=params)"
      ],
      "execution_count": null,
      "outputs": []
    },
    {
      "cell_type": "markdown",
      "metadata": {
        "id": "q4zsyZ-C8Dny"
      },
      "source": [
        "# Manual Mode"
      ]
    },
    {
      "cell_type": "markdown",
      "metadata": {
        "id": "jSCcrEbsD0bl"
      },
      "source": [
        "At this point, we have a Data Source. From here, we can create a DataRobot project. Note that we can have many different Data Sources set up to work with a single Data Connection.\n",
        "\n",
        "Note that my access credentials aren't stored, so I need to share them again. "
      ]
    },
    {
      "cell_type": "code",
      "metadata": {
        "id": "-0l4mmVwD96R"
      },
      "source": [
        "new_proj = dr.Project.create_from_data_source(data_source_id=data_source.id,\n",
        "                                          username=USERNAME,\n",
        "                                          password=PASSWORD)"
      ],
      "execution_count": null,
      "outputs": []
    },
    {
      "cell_type": "markdown",
      "metadata": {
        "id": "5vKsLzPeTXYQ"
      },
      "source": [
        "This sets up a new project, that we're running in Manual mode. For the sake of a new novelty, we're going to try a different prediction approach - trying to predict the category of a loan request given the other features."
      ]
    },
    {
      "cell_type": "code",
      "metadata": {
        "id": "0CCnXXlwT5Eo"
      },
      "source": [
        "new_proj.set_target(target=\"purpose\",\n",
        "                mode=dr.AUTOPILOT_MODE.MANUAL,\n",
        "                worker_count=-1)"
      ],
      "execution_count": null,
      "outputs": []
    },
    {
      "cell_type": "markdown",
      "metadata": {
        "id": "ATtvNY3oV1Zi"
      },
      "source": [
        "We can get the full list of blueprints available to a project."
      ]
    },
    {
      "cell_type": "code",
      "metadata": {
        "id": "pxIqaIj9UYAM"
      },
      "source": [
        "new_proj.get_blueprints()\n"
      ],
      "execution_count": null,
      "outputs": []
    },
    {
      "cell_type": "markdown",
      "metadata": {
        "id": "XixHXOSBV5xD"
      },
      "source": [
        "This is a simple match to determine if the blueprint name contains \"Neural Network Classifier\". If you want a more complex version, you could filter on the specific process steps of the model (check to tutorial #1 for more info). "
      ]
    },
    {
      "cell_type": "code",
      "metadata": {
        "id": "1MbekXZiUjSa"
      },
      "source": [
        "BLUEPRINT_TRAIN = 'Neural Network Classifier'\n",
        "dr_nn = [b for b in new_proj.get_blueprints() if BLUEPRINT_TRAIN in b.model_type]\n",
        "dr_nn"
      ],
      "execution_count": null,
      "outputs": []
    },
    {
      "cell_type": "markdown",
      "metadata": {
        "id": "rnf10FpMWFXO"
      },
      "source": [
        "And then we can train individual blueprints on a certain sample percentage, with a specific feature list if desired. The \"wait_for_async_model_creation\" code below will run models one at a time."
      ]
    },
    {
      "cell_type": "code",
      "metadata": {
        "id": "9fdIWj_0VVmV"
      },
      "source": [
        "for blueprint in dr_nn:\n",
        "  model_job_id = new_proj.train(blueprint, sample_pct=64)\n",
        "  #dr_model = wait_for_async_model_creation( #helpful if your code progresses automatically\n",
        "  #    project_id=new_proj.id,\n",
        "  #    model_job_id=model_job_id,\n",
        "  #)"
      ],
      "execution_count": null,
      "outputs": []
    },
    {
      "cell_type": "markdown",
      "metadata": {
        "id": "tE6iXmaGWpVB"
      },
      "source": [
        "At this point you can treat the Leaderboard as normal and grab models from it to compare, or to run Autopilot if you want to do that at this stage. "
      ]
    },
    {
      "cell_type": "code",
      "metadata": {
        "id": "aRy33GSY0pob"
      },
      "source": [
        "new_proj.get_models()"
      ],
      "execution_count": null,
      "outputs": []
    },
    {
      "cell_type": "markdown",
      "metadata": {
        "id": "mF3uHlMKW1wG"
      },
      "source": [
        "# Hyperparameter Tuning"
      ]
    },
    {
      "cell_type": "markdown",
      "metadata": {
        "id": "JD5FQQCkXF4e"
      },
      "source": [
        "Hyperparameter tuning is a common use case for the API. To start, we'll create a new tuning session and understand which tasks are available for tuning within this Blueprint. "
      ]
    },
    {
      "cell_type": "code",
      "metadata": {
        "id": "SbZ3_fxmXPkt"
      },
      "source": [
        "#grab the top model on the leaderboard\n",
        "model = new_proj.get_models()[0]\n",
        "model"
      ],
      "execution_count": null,
      "outputs": []
    },
    {
      "cell_type": "code",
      "metadata": {
        "id": "PtufPeLyXKyX"
      },
      "source": [
        "tune = model.start_advanced_tuning_session()\n",
        "tasks = tune.get_task_names()\n",
        "tasks"
      ],
      "execution_count": null,
      "outputs": []
    },
    {
      "cell_type": "markdown",
      "metadata": {
        "id": "G09yPgbuXzTl"
      },
      "source": [
        "Next, we can understand which components of each step are available for tuning."
      ]
    },
    {
      "cell_type": "code",
      "metadata": {
        "id": "l2MHuTAAXpd2"
      },
      "source": [
        "for task in tasks:\n",
        "    pp.pprint(task)\n",
        "    pp.pprint(tune.get_parameter_names(task))\n",
        "    print()"
      ],
      "execution_count": null,
      "outputs": []
    },
    {
      "cell_type": "markdown",
      "metadata": {
        "id": "6RdG01k1X82I"
      },
      "source": [
        "DataRobot also provides some helpful information about the constraints on each parameter - what values can be provided for that parameter."
      ]
    },
    {
      "cell_type": "code",
      "metadata": {
        "id": "vofS0BsbYAlF"
      },
      "source": [
        "param_details = model.get_advanced_tuning_parameters()[\"tuning_parameters\"]\n",
        "param_list = [x[\"parameter_name\"] for x in param_details]\n",
        "pp.pprint (param_details[param_list.index(\"n_hidden_units\")])"
      ],
      "execution_count": null,
      "outputs": []
    },
    {
      "cell_type": "code",
      "metadata": {
        "id": "Z8bZR43eYbq6"
      },
      "source": [
        "tune.set_parameter(parameter_name = \"max_ngram\",\n",
        "                     value = 3)\n",
        "tune.set_parameter(parameter_name = \"stemmer\",\n",
        "                     value = 'snowball')\n",
        "tune.set_parameter(parameter_name = \"n_hidden_units\",\n",
        "                   value = 20)\n",
        "job = tune.run()"
      ],
      "execution_count": null,
      "outputs": []
    },
    {
      "cell_type": "markdown",
      "metadata": {
        "id": "twSXh4u1Qrq6"
      },
      "source": [
        "This is how you would grab a new project by the ID"
      ]
    },
    {
      "cell_type": "code",
      "metadata": {
        "id": "GzO_MMNB3TIT"
      },
      "source": [
        "proj2 = dr.Project.get(\"<project-id-here>\")"
      ],
      "execution_count": null,
      "outputs": []
    },
    {
      "cell_type": "markdown",
      "metadata": {
        "id": "uvecZgFaQuy0"
      },
      "source": [
        "Search through available projects with a search parameter"
      ]
    },
    {
      "cell_type": "code",
      "metadata": {
        "id": "gZjxodIX3knE"
      },
      "source": [
        "dr.Project.list(search_params={\"project_name\": \"Lending Club\"})"
      ],
      "execution_count": null,
      "outputs": []
    },
    {
      "cell_type": "markdown",
      "metadata": {
        "id": "8LpB6ieNQzby"
      },
      "source": [
        "Subset models returned by sample percentage to exclude the 100"
      ]
    },
    {
      "cell_type": "code",
      "metadata": {
        "id": "w7RUNol235LC"
      },
      "source": [
        "new_proj.get_models(search_params={\"sample_pct\":64})"
      ],
      "execution_count": null,
      "outputs": []
    },
    {
      "cell_type": "markdown",
      "metadata": {
        "id": "XMXtarFdZuzV"
      },
      "source": [
        "# Share Projects for Collaboration"
      ]
    },
    {
      "cell_type": "markdown",
      "metadata": {
        "id": "LOBoeQA7blJQ"
      },
      "source": [
        "We often want to provision access to a group of users or otherwise change permissions. This can be done using the API."
      ]
    },
    {
      "cell_type": "code",
      "metadata": {
        "id": "_iq1LAOZZ1uB"
      },
      "source": [
        "new_proj.get_status()"
      ],
      "execution_count": null,
      "outputs": []
    },
    {
      "cell_type": "code",
      "metadata": {
        "id": "RpZFhVf-Z6Wo"
      },
      "source": [
        "access_list = []\n",
        "access_list.append(\n",
        "    dr.SharingAccess(username = \"timothy.whitaker@datarobot.com\", role = dr.enums.SHARING_ROLE.READ_ONLY)\n",
        ")\n",
        "new_proj.share(access_list)"
      ],
      "execution_count": null,
      "outputs": []
    },
    {
      "cell_type": "code",
      "metadata": {
        "id": "8Dmu-1eHaFNk"
      },
      "source": [
        "for user in new_proj.get_access_list():\n",
        "    print(\"user: {} \\nrole:{}\\n\".format(user.username, user.role))"
      ],
      "execution_count": null,
      "outputs": []
    },
    {
      "cell_type": "markdown",
      "metadata": {
        "id": "XP5gkrvzbwtF"
      },
      "source": [
        "The same code can be used to remove permissions if needed."
      ]
    },
    {
      "cell_type": "code",
      "metadata": {
        "id": "DxpgapXDb1xa"
      },
      "source": [
        "access_list = []\n",
        "access_list.append(\n",
        "    dr.SharingAccess(username = \"cory.kind@datarobot.com\", role = None)\n",
        ")\n",
        "new_proj.share(access_list)\n",
        "\n",
        "for user in new_proj.get_access_list():\n",
        "    print(\"user: {} \\nrole:{}\\n\".format(user.username, user.role))"
      ],
      "execution_count": null,
      "outputs": []
    },
    {
      "cell_type": "markdown",
      "metadata": {
        "id": "mPO2ar_Dbg3D"
      },
      "source": [
        "# Deploy a Model "
      ]
    },
    {
      "cell_type": "markdown",
      "metadata": {
        "id": "6gx78_I9cD3O"
      },
      "source": [
        "Once we finalize our model, we can deploy it using the API. It can be helpful to get our available prediction server."
      ]
    },
    {
      "cell_type": "code",
      "metadata": {
        "id": "oS8JspQocOb4"
      },
      "source": [
        "#Get your prediction servers\n",
        "dr.PredictionServer.list()\n",
        "prediction_server = dr.PredictionServer.list()[0]\n",
        "prediction_server"
      ],
      "execution_count": null,
      "outputs": []
    },
    {
      "cell_type": "code",
      "metadata": {
        "id": "yuyKHhLtcah4"
      },
      "source": [
        "#Create a new deployment\n",
        "deployment = dr.Deployment.create_from_learning_model(model.id, \n",
        "                                                      label=\"lending club multiclass deployment2\", \n",
        "                                                      description='Deployment for LC multiclass demo',\n",
        "                                                      default_prediction_server_id=prediction_server.id)"
      ],
      "execution_count": null,
      "outputs": []
    },
    {
      "cell_type": "code",
      "metadata": {
        "id": "YLp9wL4TeZmM"
      },
      "source": [
        "deployment.id"
      ],
      "execution_count": null,
      "outputs": []
    },
    {
      "cell_type": "markdown",
      "metadata": {
        "id": "Or3WWDIQdRC5"
      },
      "source": [
        "I can edit my deployment to turn on additional functionality, such as Data Drift."
      ]
    },
    {
      "cell_type": "code",
      "metadata": {
        "id": "pZbp3MhPdW8Z"
      },
      "source": [
        "deployment.update_drift_tracking_settings(feature_drift_enabled=True)"
      ],
      "execution_count": null,
      "outputs": []
    },
    {
      "cell_type": "markdown",
      "metadata": {
        "id": "0wtnmLXPgEx0"
      },
      "source": [
        "I can also replace my model with a different version in the event of a refresh."
      ]
    },
    {
      "cell_type": "code",
      "metadata": {
        "id": "6ebH-dvrgI9Q"
      },
      "source": [
        "another_model = new_proj.get_models()[2]\n",
        "deployment.replace_model(another_model.id, \"ACCURACY\")"
      ],
      "execution_count": null,
      "outputs": []
    }
  ]
}